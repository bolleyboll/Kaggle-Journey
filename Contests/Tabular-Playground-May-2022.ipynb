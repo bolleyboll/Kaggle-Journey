{
 "cells": [
  {
   "cell_type": "markdown",
   "id": "e6fd7e4a",
   "metadata": {
    "papermill": {
     "duration": 0.05552,
     "end_time": "2022-05-13T18:34:38.750258",
     "exception": false,
     "start_time": "2022-05-13T18:34:38.694738",
     "status": "completed"
    },
    "tags": []
   },
   "source": [
    "# Getting started with TensorFlow Decision Forests\n"
   ]
  },
  {
   "cell_type": "markdown",
   "id": "4bf09dd1",
   "metadata": {
    "papermill": {
     "duration": 0.052435,
     "end_time": "2022-05-13T18:34:38.961061",
     "exception": false,
     "start_time": "2022-05-13T18:34:38.908626",
     "status": "completed"
    },
    "tags": []
   },
   "source": [
    "# Introduction"
   ]
  },
  {
   "cell_type": "markdown",
   "id": "05324fd0",
   "metadata": {
    "papermill": {
     "duration": 0.05258,
     "end_time": "2022-05-13T18:34:39.066421",
     "exception": false,
     "start_time": "2022-05-13T18:34:39.013841",
     "status": "completed"
    },
    "tags": []
   },
   "source": [
    "The goal of this notebook is to help Kagglers to get started with the [TensorFlow Decision Forests (TF-DF)](https://www.tensorflow.org/decision_forests) Python API.  We will use data from the [Tabular Playground Series](https://www.kaggle.com/competitions/tabular-playground-series-may-2022/data) Kaggle competition to train ML models using TF-DF.\n",
    "\n",
    "We'll be working with the [Tabular Playground Series May 2022](https://www.kaggle.com/competitions/tabular-playground-series-may-2022/data) Kaggle Dataset.  It is a tabular dataset with 900,000 rows and 33 columns (318MB .CSV training dataset + 247MB .CSV test set) that is suitable for training algorithms to solve binary classification problems (in this case to determine if a machine is in a state of \"0\" or \"1\" based off of input sensor data).  \n",
    "\n",
    "We'll be using [TensorFlow Decision Forests](https://www.tensorflow.org/decision_forests) (TF-DF) to train our model.  TensorFlow Decision Forests is a TensorFlow wrapper for the [Yggdrasil Decision Forests C++ libraries](https://github.com/google/yggdrasil-decision-forests).  TF-DF makes it very easy to train, serve and interpret various Decision Forest models such as [RandomForests](https://www.tensorflow.org/decision_forests/api_docs/python/tfdf/keras/RandomForestModel) and [GrandientBoostedTrees](https://www.tensorflow.org/decision_forests/api_docs/python/tfdf/keras/GradientBoostedTreesModel).  These types of decision forest models require minimal pre-processing of the data and are great when working with tabular datasets and/or small datasets (especially if you just want a quick baseline result to compare against).\n",
    "\n",
    "By studying this tutorial you will learn how to quickly train a GradientBoostedTrees model to perform a binary classification task using tabular data."
   ]
  },
  {
   "cell_type": "markdown",
   "id": "2e1a6959",
   "metadata": {
    "papermill": {
     "duration": 0.052214,
     "end_time": "2022-05-13T18:34:39.171346",
     "exception": false,
     "start_time": "2022-05-13T18:34:39.119132",
     "status": "completed"
    },
    "tags": []
   },
   "source": [
    "Step 1: Import Python packages"
   ]
  },
  {
   "cell_type": "code",
   "execution_count": 37,
   "id": "553a4d18",
   "metadata": {
    "_kg_hide-output": true,
    "execution": {
     "iopub.execute_input": "2022-05-13T18:34:39.285428Z",
     "iopub.status.busy": "2022-05-13T18:34:39.284858Z",
     "iopub.status.idle": "2022-05-13T18:36:11.911190Z",
     "shell.execute_reply": "2022-05-13T18:36:11.909658Z"
    },
    "papermill": {
     "duration": 92.687489,
     "end_time": "2022-05-13T18:36:11.916172",
     "exception": false,
     "start_time": "2022-05-13T18:34:39.228683",
     "status": "completed"
    },
    "tags": []
   },
   "outputs": [
    {
     "name": "stdout",
     "output_type": "stream",
     "text": [
      "\u001b[31mERROR: Could not open requirements file: [Errno 2] No such file or directory: 'requirements,txt'\u001b[0m\u001b[31m\n",
      "\u001b[0m\u001b[33mWARNING: You are using pip version 22.0.4; however, version 22.1.1 is available.\n",
      "You should consider upgrading via the '/media/D/Git/Kaggle-Journey/venv/bin/python -m pip install --upgrade pip' command.\u001b[0m\u001b[33m\n",
      "\u001b[0m"
     ]
    }
   ],
   "source": [
    "%%capture\n",
    "! pip install --upgrade tensorflow_decision_forests"
   ]
  },
  {
   "cell_type": "code",
   "execution_count": 3,
   "id": "79843620",
   "metadata": {
    "execution": {
     "iopub.execute_input": "2022-05-13T18:36:12.466364Z",
     "iopub.status.busy": "2022-05-13T18:36:12.466062Z",
     "iopub.status.idle": "2022-05-13T18:36:17.931633Z",
     "shell.execute_reply": "2022-05-13T18:36:17.928887Z"
    },
    "papermill": {
     "duration": 5.729115,
     "end_time": "2022-05-13T18:36:17.934995",
     "exception": false,
     "start_time": "2022-05-13T18:36:12.205880",
     "status": "completed"
    },
    "tags": []
   },
   "outputs": [
    {
     "name": "stdout",
     "output_type": "stream",
     "text": [
      "Unexpected exception formatting exception. Falling back to standard exception\n"
     ]
    },
    {
     "name": "stderr",
     "output_type": "stream",
     "text": [
      "Traceback (most recent call last):\n",
      "  File \"/media/D/Git/Kaggle-Journey/venv/lib/python3.10/site-packages/IPython/core/interactiveshell.py\", line 3397, in run_code\n",
      "  File \"/tmp/ipykernel_4062/53167504.py\", line 3, in <cell line: 3>\n",
      "    import numpy as np\n",
      "ModuleNotFoundError: No module named 'numpy'\n",
      "\n",
      "During handling of the above exception, another exception occurred:\n",
      "\n",
      "Traceback (most recent call last):\n",
      "  File \"/media/D/Git/Kaggle-Journey/venv/lib/python3.10/site-packages/pygments/styles/__init__.py\", line 78, in get_style_by_name\n",
      "ModuleNotFoundError: No module named 'pygments.styles.default'\n",
      "\n",
      "During handling of the above exception, another exception occurred:\n",
      "\n",
      "Traceback (most recent call last):\n",
      "  File \"/media/D/Git/Kaggle-Journey/venv/lib/python3.10/site-packages/IPython/core/interactiveshell.py\", line 1992, in showtraceback\n",
      "  File \"/media/D/Git/Kaggle-Journey/venv/lib/python3.10/site-packages/IPython/core/ultratb.py\", line 1118, in structured_traceback\n",
      "  File \"/media/D/Git/Kaggle-Journey/venv/lib/python3.10/site-packages/IPython/core/ultratb.py\", line 1012, in structured_traceback\n",
      "  File \"/media/D/Git/Kaggle-Journey/venv/lib/python3.10/site-packages/IPython/core/ultratb.py\", line 865, in structured_traceback\n",
      "  File \"/media/D/Git/Kaggle-Journey/venv/lib/python3.10/site-packages/IPython/core/ultratb.py\", line 799, in format_exception_as_a_whole\n",
      "  File \"/media/D/Git/Kaggle-Journey/venv/lib/python3.10/site-packages/IPython/core/ultratb.py\", line 844, in get_records\n",
      "  File \"/media/D/Git/Kaggle-Journey/venv/lib/python3.10/site-packages/pygments/styles/__init__.py\", line 80, in get_style_by_name\n",
      "pygments.util.ClassNotFound: Could not find style module 'default', though it should be builtin.\n"
     ]
    }
   ],
   "source": [
    "# Import Python packages\n",
    "import os\n",
    "import numpy as np \n",
    "import pandas as pd \n",
    "import matplotlib.pyplot as plt\n",
    "import seaborn as sns\n",
    "import tensorflow as tf\n",
    "import tensorflow_decision_forests as tfdf\n",
    "print(\"TensorFlow Decision Forests v\" + tfdf.__version__)"
   ]
  },
  {
   "cell_type": "code",
   "execution_count": 4,
   "id": "6a5d770c",
   "metadata": {
    "_cell_guid": "b1076dfc-b9ad-4769-8c92-a6c4dae69d19",
    "_kg_hide-input": true,
    "_kg_hide-output": true,
    "_uuid": "8f2839f25d086af736a60e9eeb907d3b93b6e0e5",
    "execution": {
     "iopub.execute_input": "2022-05-13T18:36:18.456057Z",
     "iopub.status.busy": "2022-05-13T18:36:18.455780Z",
     "iopub.status.idle": "2022-05-13T18:36:18.469221Z",
     "shell.execute_reply": "2022-05-13T18:36:18.468117Z"
    },
    "papermill": {
     "duration": 0.278996,
     "end_time": "2022-05-13T18:36:18.472097",
     "exception": false,
     "start_time": "2022-05-13T18:36:18.193101",
     "status": "completed"
    },
    "tags": []
   },
   "outputs": [],
   "source": [
    "# Define helper functions:  \n",
    "# One for plotting training evaluation curves, and another for expanding feature number 27.\n",
    "# This bit of code is not particularly important with regards to learning how to use TensorFlow Decision Forests (TF-DF)\n",
    "# If you are just trying to learn how to use TF-DF then my recommendation would be to skip this code cell and instead focus on understanding all the rest\n",
    "\n",
    "def plot_tfdf_model_training_curves(model):\n",
    "    # This function was adapted from the following tutorial:\n",
    "    # https://www.tensorflow.org/decision_forests/tutorials/beginner_colab\n",
    "    logs = model.make_inspector().training_logs()\n",
    "    plt.figure(figsize=(12, 4))\n",
    "    plt.subplot(1, 2, 1)\n",
    "    # Plot accuracy vs number of trees\n",
    "    plt.plot([log.num_trees for log in logs], [log.evaluation.accuracy for log in logs])\n",
    "    plt.xlabel(\"Number of trees\")\n",
    "    plt.ylabel(\"Accuracy (out-of-bag)\")\n",
    "    plt.subplot(1, 2, 2)\n",
    "    # Plot loss vs number of trees\n",
    "    plt.plot([log.num_trees for log in logs], [log.evaluation.loss for log in logs])\n",
    "    plt.xlabel(\"Number of trees\")\n",
    "    plt.ylabel(\"Logloss (out-of-bag)\")\n",
    "    plt.show()\n",
    "    \n",
    "    \n",
    "def expand_feature_27(data):\n",
    "    # This function was adapted from the following notebooks:\n",
    "    # https://www.kaggle.com/code/cabaxiom/tps-may-22-eda-lgbm-model and\n",
    "    # https://www.kaggle.com/code/ambrosm/tpsmay22-gradient-boosting-quickstart\n",
    "    for df in [data]:\n",
    "        # Extract the 10 letters of f_27 into individual features\n",
    "        for i in range(10):\n",
    "            df[f'ch{i}'] = df.f_27.str.get(i).apply(ord) - ord('A')\n",
    "        df[\"unique_characters\"] = df.f_27.apply(lambda s: len(set(s)))\n",
    "        # Feature interactions: create three ternary features\n",
    "        # Every ternary feature can have the values -1, 0 and +1\n",
    "        df['i_02_21'] = (df.f_21 + df.f_02 > 5.2).astype(int) - (df.f_21 + df.f_02 < -5.3).astype(int)\n",
    "        df['i_05_22'] = (df.f_22 + df.f_05 > 5.1).astype(int) - (df.f_22 + df.f_05 < -5.4).astype(int)\n",
    "        i_00_01_26 = df.f_00 + df.f_01 + df.f_26\n",
    "        df['i_00_01_26'] = (i_00_01_26 > 5.0).astype(int) - (i_00_01_26 < -5.0).astype(int)\n",
    "        return data"
   ]
  },
  {
   "cell_type": "markdown",
   "id": "af6ef75b",
   "metadata": {
    "papermill": {
     "duration": 0.447255,
     "end_time": "2022-05-13T18:36:19.316414",
     "exception": false,
     "start_time": "2022-05-13T18:36:18.869159",
     "status": "completed"
    },
    "tags": []
   },
   "source": [
    "Step 2: Identify the location of the data"
   ]
  },
  {
   "cell_type": "code",
   "execution_count": 5,
   "id": "dd9ca608",
   "metadata": {
    "_kg_hide-input": true,
    "execution": {
     "iopub.execute_input": "2022-05-13T18:36:20.197218Z",
     "iopub.status.busy": "2022-05-13T18:36:20.196767Z",
     "iopub.status.idle": "2022-05-13T18:36:20.210811Z",
     "shell.execute_reply": "2022-05-13T18:36:20.209905Z"
    },
    "papermill": {
     "duration": 0.456494,
     "end_time": "2022-05-13T18:36:20.216144",
     "exception": false,
     "start_time": "2022-05-13T18:36:19.759650",
     "status": "completed"
    },
    "tags": []
   },
   "outputs": [],
   "source": [
    "# print list of all data and files attached to this notebook\n",
    "for dirname, _, filenames in os.walk('/kaggle/input'):\n",
    "    for filename in filenames:\n",
    "        print(os.path.join(dirname, filename))"
   ]
  },
  {
   "cell_type": "markdown",
   "id": "60c13d57",
   "metadata": {
    "papermill": {
     "duration": 0.436549,
     "end_time": "2022-05-13T18:36:21.094051",
     "exception": false,
     "start_time": "2022-05-13T18:36:20.657502",
     "status": "completed"
    },
    "tags": []
   },
   "source": [
    "Step 3: Load the data"
   ]
  },
  {
   "cell_type": "code",
   "execution_count": 6,
   "id": "f1176809",
   "metadata": {
    "_kg_hide-output": true,
    "execution": {
     "iopub.execute_input": "2022-05-13T18:36:21.667071Z",
     "iopub.status.busy": "2022-05-13T18:36:21.666765Z",
     "iopub.status.idle": "2022-05-13T18:36:36.307997Z",
     "shell.execute_reply": "2022-05-13T18:36:36.306983Z"
    },
    "papermill": {
     "duration": 14.904467,
     "end_time": "2022-05-13T18:36:36.311052",
     "exception": false,
     "start_time": "2022-05-13T18:36:21.406585",
     "status": "completed"
    },
    "tags": []
   },
   "outputs": [
    {
     "name": "stdout",
     "output_type": "stream",
     "text": [
      "Unexpected exception formatting exception. Falling back to standard exception\n"
     ]
    },
    {
     "name": "stderr",
     "output_type": "stream",
     "text": [
      "Traceback (most recent call last):\n",
      "  File \"/media/D/Git/Kaggle-Journey/venv/lib/python3.10/site-packages/IPython/core/interactiveshell.py\", line 3397, in run_code\n",
      "  File \"/tmp/ipykernel_4062/2475281181.py\", line 2, in <cell line: 2>\n",
      "    train_df = pd.read_csv('../datasets/tabular-playground/train.csv')\n",
      "NameError: name 'pd' is not defined\n",
      "\n",
      "During handling of the above exception, another exception occurred:\n",
      "\n",
      "Traceback (most recent call last):\n",
      "  File \"/media/D/Git/Kaggle-Journey/venv/lib/python3.10/site-packages/pygments/styles/__init__.py\", line 78, in get_style_by_name\n",
      "ModuleNotFoundError: No module named 'pygments.styles.default'\n",
      "\n",
      "During handling of the above exception, another exception occurred:\n",
      "\n",
      "Traceback (most recent call last):\n",
      "  File \"/media/D/Git/Kaggle-Journey/venv/lib/python3.10/site-packages/IPython/core/interactiveshell.py\", line 1992, in showtraceback\n",
      "  File \"/media/D/Git/Kaggle-Journey/venv/lib/python3.10/site-packages/IPython/core/ultratb.py\", line 1118, in structured_traceback\n",
      "  File \"/media/D/Git/Kaggle-Journey/venv/lib/python3.10/site-packages/IPython/core/ultratb.py\", line 1012, in structured_traceback\n",
      "  File \"/media/D/Git/Kaggle-Journey/venv/lib/python3.10/site-packages/IPython/core/ultratb.py\", line 865, in structured_traceback\n",
      "  File \"/media/D/Git/Kaggle-Journey/venv/lib/python3.10/site-packages/IPython/core/ultratb.py\", line 799, in format_exception_as_a_whole\n",
      "  File \"/media/D/Git/Kaggle-Journey/venv/lib/python3.10/site-packages/IPython/core/ultratb.py\", line 844, in get_records\n",
      "  File \"/media/D/Git/Kaggle-Journey/venv/lib/python3.10/site-packages/pygments/styles/__init__.py\", line 80, in get_style_by_name\n",
      "pygments.util.ClassNotFound: Could not find style module 'default', though it should be builtin.\n"
     ]
    }
   ],
   "source": [
    "# load to pandas dataframe (for data exploration)\n",
    "train_df = pd.read_csv('../datasets/tabular-playground/train.csv')\n",
    "test_df = pd.read_csv('../datasets/tabular-playground/test.csv')\n",
    "\n",
    "# load to tensorflow dataset (for model training)\n",
    "train_tfds = tfdf.keras.pd_dataframe_to_tf_dataset(train_df, label=\"target\")\n",
    "test_tfds = tfdf.keras.pd_dataframe_to_tf_dataset(test_df)"
   ]
  },
  {
   "cell_type": "markdown",
   "id": "e288bee6",
   "metadata": {
    "papermill": {
     "duration": 0.260611,
     "end_time": "2022-05-13T18:36:36.833121",
     "exception": false,
     "start_time": "2022-05-13T18:36:36.572510",
     "status": "completed"
    },
    "tags": []
   },
   "source": [
    "Step 4: Explore the data"
   ]
  },
  {
   "cell_type": "code",
   "execution_count": 7,
   "id": "ecc41cc9",
   "metadata": {
    "execution": {
     "iopub.execute_input": "2022-05-13T18:36:37.368524Z",
     "iopub.status.busy": "2022-05-13T18:36:37.368064Z",
     "iopub.status.idle": "2022-05-13T18:36:37.374242Z",
     "shell.execute_reply": "2022-05-13T18:36:37.373219Z"
    },
    "papermill": {
     "duration": 0.281403,
     "end_time": "2022-05-13T18:36:37.377868",
     "exception": false,
     "start_time": "2022-05-13T18:36:37.096465",
     "status": "completed"
    },
    "tags": []
   },
   "outputs": [
    {
     "name": "stdout",
     "output_type": "stream",
     "text": [
      "Unexpected exception formatting exception. Falling back to standard exception\n"
     ]
    },
    {
     "name": "stderr",
     "output_type": "stream",
     "text": [
      "Traceback (most recent call last):\n",
      "  File \"/media/D/Git/Kaggle-Journey/venv/lib/python3.10/site-packages/IPython/core/interactiveshell.py\", line 3397, in run_code\n",
      "  File \"/tmp/ipykernel_4062/1254432529.py\", line 2, in <cell line: 2>\n",
      "    print(train_df.columns)\n",
      "NameError: name 'train_df' is not defined\n",
      "\n",
      "During handling of the above exception, another exception occurred:\n",
      "\n",
      "Traceback (most recent call last):\n",
      "  File \"/media/D/Git/Kaggle-Journey/venv/lib/python3.10/site-packages/pygments/styles/__init__.py\", line 78, in get_style_by_name\n",
      "ModuleNotFoundError: No module named 'pygments.styles.default'\n",
      "\n",
      "During handling of the above exception, another exception occurred:\n",
      "\n",
      "Traceback (most recent call last):\n",
      "  File \"/media/D/Git/Kaggle-Journey/venv/lib/python3.10/site-packages/IPython/core/interactiveshell.py\", line 1992, in showtraceback\n",
      "  File \"/media/D/Git/Kaggle-Journey/venv/lib/python3.10/site-packages/IPython/core/ultratb.py\", line 1118, in structured_traceback\n",
      "  File \"/media/D/Git/Kaggle-Journey/venv/lib/python3.10/site-packages/IPython/core/ultratb.py\", line 1012, in structured_traceback\n",
      "  File \"/media/D/Git/Kaggle-Journey/venv/lib/python3.10/site-packages/IPython/core/ultratb.py\", line 865, in structured_traceback\n",
      "  File \"/media/D/Git/Kaggle-Journey/venv/lib/python3.10/site-packages/IPython/core/ultratb.py\", line 799, in format_exception_as_a_whole\n",
      "  File \"/media/D/Git/Kaggle-Journey/venv/lib/python3.10/site-packages/IPython/core/ultratb.py\", line 844, in get_records\n",
      "  File \"/media/D/Git/Kaggle-Journey/venv/lib/python3.10/site-packages/pygments/styles/__init__.py\", line 80, in get_style_by_name\n",
      "pygments.util.ClassNotFound: Could not find style module 'default', though it should be builtin.\n"
     ]
    }
   ],
   "source": [
    "# print column names\n",
    "print(train_df.columns)"
   ]
  },
  {
   "cell_type": "code",
   "execution_count": 8,
   "id": "98073a20",
   "metadata": {
    "execution": {
     "iopub.execute_input": "2022-05-13T18:36:37.909049Z",
     "iopub.status.busy": "2022-05-13T18:36:37.908242Z",
     "iopub.status.idle": "2022-05-13T18:36:37.946432Z",
     "shell.execute_reply": "2022-05-13T18:36:37.945474Z"
    },
    "papermill": {
     "duration": 0.299705,
     "end_time": "2022-05-13T18:36:37.949042",
     "exception": false,
     "start_time": "2022-05-13T18:36:37.649337",
     "status": "completed"
    },
    "tags": []
   },
   "outputs": [
    {
     "name": "stdout",
     "output_type": "stream",
     "text": [
      "Unexpected exception formatting exception. Falling back to standard exception\n"
     ]
    },
    {
     "name": "stderr",
     "output_type": "stream",
     "text": [
      "Traceback (most recent call last):\n",
      "  File \"/media/D/Git/Kaggle-Journey/venv/lib/python3.10/site-packages/IPython/core/interactiveshell.py\", line 3397, in run_code\n",
      "  File \"/tmp/ipykernel_4062/365969332.py\", line 2, in <cell line: 2>\n",
      "    train_df.head(10)\n",
      "NameError: name 'train_df' is not defined\n",
      "\n",
      "During handling of the above exception, another exception occurred:\n",
      "\n",
      "Traceback (most recent call last):\n",
      "  File \"/media/D/Git/Kaggle-Journey/venv/lib/python3.10/site-packages/pygments/styles/__init__.py\", line 78, in get_style_by_name\n",
      "ModuleNotFoundError: No module named 'pygments.styles.default'\n",
      "\n",
      "During handling of the above exception, another exception occurred:\n",
      "\n",
      "Traceback (most recent call last):\n",
      "  File \"/media/D/Git/Kaggle-Journey/venv/lib/python3.10/site-packages/IPython/core/interactiveshell.py\", line 1992, in showtraceback\n",
      "  File \"/media/D/Git/Kaggle-Journey/venv/lib/python3.10/site-packages/IPython/core/ultratb.py\", line 1118, in structured_traceback\n",
      "  File \"/media/D/Git/Kaggle-Journey/venv/lib/python3.10/site-packages/IPython/core/ultratb.py\", line 1012, in structured_traceback\n",
      "  File \"/media/D/Git/Kaggle-Journey/venv/lib/python3.10/site-packages/IPython/core/ultratb.py\", line 865, in structured_traceback\n",
      "  File \"/media/D/Git/Kaggle-Journey/venv/lib/python3.10/site-packages/IPython/core/ultratb.py\", line 799, in format_exception_as_a_whole\n",
      "  File \"/media/D/Git/Kaggle-Journey/venv/lib/python3.10/site-packages/IPython/core/ultratb.py\", line 844, in get_records\n",
      "  File \"/media/D/Git/Kaggle-Journey/venv/lib/python3.10/site-packages/pygments/styles/__init__.py\", line 80, in get_style_by_name\n",
      "pygments.util.ClassNotFound: Could not find style module 'default', though it should be builtin.\n"
     ]
    }
   ],
   "source": [
    "# preview first few rows of data\n",
    "train_df.head(10)"
   ]
  },
  {
   "cell_type": "code",
   "execution_count": 9,
   "id": "4a58ed7d",
   "metadata": {
    "execution": {
     "iopub.execute_input": "2022-05-13T18:36:38.468353Z",
     "iopub.status.busy": "2022-05-13T18:36:38.468058Z",
     "iopub.status.idle": "2022-05-13T18:36:39.725900Z",
     "shell.execute_reply": "2022-05-13T18:36:39.724916Z"
    },
    "papermill": {
     "duration": 1.518959,
     "end_time": "2022-05-13T18:36:39.728486",
     "exception": false,
     "start_time": "2022-05-13T18:36:38.209527",
     "status": "completed"
    },
    "tags": []
   },
   "outputs": [
    {
     "name": "stdout",
     "output_type": "stream",
     "text": [
      "Unexpected exception formatting exception. Falling back to standard exception\n"
     ]
    },
    {
     "name": "stderr",
     "output_type": "stream",
     "text": [
      "Traceback (most recent call last):\n",
      "  File \"/media/D/Git/Kaggle-Journey/venv/lib/python3.10/site-packages/IPython/core/interactiveshell.py\", line 3397, in run_code\n",
      "  File \"/tmp/ipykernel_4062/1972781660.py\", line 2, in <cell line: 2>\n",
      "    train_df.describe()\n",
      "NameError: name 'train_df' is not defined\n",
      "\n",
      "During handling of the above exception, another exception occurred:\n",
      "\n",
      "Traceback (most recent call last):\n",
      "  File \"/media/D/Git/Kaggle-Journey/venv/lib/python3.10/site-packages/pygments/styles/__init__.py\", line 78, in get_style_by_name\n",
      "ModuleNotFoundError: No module named 'pygments.styles.default'\n",
      "\n",
      "During handling of the above exception, another exception occurred:\n",
      "\n",
      "Traceback (most recent call last):\n",
      "  File \"/media/D/Git/Kaggle-Journey/venv/lib/python3.10/site-packages/IPython/core/interactiveshell.py\", line 1992, in showtraceback\n",
      "  File \"/media/D/Git/Kaggle-Journey/venv/lib/python3.10/site-packages/IPython/core/ultratb.py\", line 1118, in structured_traceback\n",
      "  File \"/media/D/Git/Kaggle-Journey/venv/lib/python3.10/site-packages/IPython/core/ultratb.py\", line 1012, in structured_traceback\n",
      "  File \"/media/D/Git/Kaggle-Journey/venv/lib/python3.10/site-packages/IPython/core/ultratb.py\", line 865, in structured_traceback\n",
      "  File \"/media/D/Git/Kaggle-Journey/venv/lib/python3.10/site-packages/IPython/core/ultratb.py\", line 799, in format_exception_as_a_whole\n",
      "  File \"/media/D/Git/Kaggle-Journey/venv/lib/python3.10/site-packages/IPython/core/ultratb.py\", line 844, in get_records\n",
      "  File \"/media/D/Git/Kaggle-Journey/venv/lib/python3.10/site-packages/pygments/styles/__init__.py\", line 80, in get_style_by_name\n",
      "pygments.util.ClassNotFound: Could not find style module 'default', though it should be builtin.\n"
     ]
    }
   ],
   "source": [
    "# print basic summary statistics\n",
    "train_df.describe()"
   ]
  },
  {
   "cell_type": "code",
   "execution_count": 10,
   "id": "de60dbf4",
   "metadata": {
    "execution": {
     "iopub.execute_input": "2022-05-13T18:36:40.255222Z",
     "iopub.status.busy": "2022-05-13T18:36:40.254888Z",
     "iopub.status.idle": "2022-05-13T18:37:24.588493Z",
     "shell.execute_reply": "2022-05-13T18:37:24.587470Z"
    },
    "papermill": {
     "duration": 44.866561,
     "end_time": "2022-05-13T18:37:24.856264",
     "exception": false,
     "start_time": "2022-05-13T18:36:39.989703",
     "status": "completed"
    },
    "tags": []
   },
   "outputs": [
    {
     "name": "stdout",
     "output_type": "stream",
     "text": [
      "Unexpected exception formatting exception. Falling back to standard exception\n"
     ]
    },
    {
     "name": "stderr",
     "output_type": "stream",
     "text": [
      "Traceback (most recent call last):\n",
      "  File \"/media/D/Git/Kaggle-Journey/venv/lib/python3.10/site-packages/IPython/core/interactiveshell.py\", line 3397, in run_code\n",
      "  File \"/tmp/ipykernel_4062/2397257827.py\", line 2, in <cell line: 2>\n",
      "    sns.heatmap(train_df.isnull(), cbar=False)\n",
      "NameError: name 'sns' is not defined\n",
      "\n",
      "During handling of the above exception, another exception occurred:\n",
      "\n",
      "Traceback (most recent call last):\n",
      "  File \"/media/D/Git/Kaggle-Journey/venv/lib/python3.10/site-packages/pygments/styles/__init__.py\", line 78, in get_style_by_name\n",
      "ModuleNotFoundError: No module named 'pygments.styles.default'\n",
      "\n",
      "During handling of the above exception, another exception occurred:\n",
      "\n",
      "Traceback (most recent call last):\n",
      "  File \"/media/D/Git/Kaggle-Journey/venv/lib/python3.10/site-packages/IPython/core/interactiveshell.py\", line 1992, in showtraceback\n",
      "  File \"/media/D/Git/Kaggle-Journey/venv/lib/python3.10/site-packages/IPython/core/ultratb.py\", line 1118, in structured_traceback\n",
      "  File \"/media/D/Git/Kaggle-Journey/venv/lib/python3.10/site-packages/IPython/core/ultratb.py\", line 1012, in structured_traceback\n",
      "  File \"/media/D/Git/Kaggle-Journey/venv/lib/python3.10/site-packages/IPython/core/ultratb.py\", line 865, in structured_traceback\n",
      "  File \"/media/D/Git/Kaggle-Journey/venv/lib/python3.10/site-packages/IPython/core/ultratb.py\", line 799, in format_exception_as_a_whole\n",
      "  File \"/media/D/Git/Kaggle-Journey/venv/lib/python3.10/site-packages/IPython/core/ultratb.py\", line 844, in get_records\n",
      "  File \"/media/D/Git/Kaggle-Journey/venv/lib/python3.10/site-packages/pygments/styles/__init__.py\", line 80, in get_style_by_name\n",
      "pygments.util.ClassNotFound: Could not find style module 'default', though it should be builtin.\n"
     ]
    }
   ],
   "source": [
    "# check for missing values\n",
    "sns.heatmap(train_df.isnull(), cbar=False)"
   ]
  },
  {
   "cell_type": "markdown",
   "id": "85c9bc9f",
   "metadata": {
    "papermill": {
     "duration": 0.268639,
     "end_time": "2022-05-13T18:37:25.390265",
     "exception": false,
     "start_time": "2022-05-13T18:37:25.121626",
     "status": "completed"
    },
    "tags": []
   },
   "source": [
    "Step 5: Feature Engineering"
   ]
  },
  {
   "cell_type": "markdown",
   "id": "1dd17eec",
   "metadata": {
    "papermill": {
     "duration": 0.26962,
     "end_time": "2022-05-13T18:37:25.984536",
     "exception": false,
     "start_time": "2022-05-13T18:37:25.714916",
     "status": "completed"
    },
    "tags": []
   },
   "source": [
    "Here we just expand out feature number 27. There are 10 unique character positions in feature number 27, and the following bit of code expands feature 27 to instead be 10+ features instead of only one feature. Adding in this step boosts our score by >>5%."
   ]
  },
  {
   "cell_type": "code",
   "execution_count": 11,
   "id": "ec3ab554",
   "metadata": {
    "_kg_hide-input": true,
    "execution": {
     "iopub.execute_input": "2022-05-13T18:37:26.524057Z",
     "iopub.status.busy": "2022-05-13T18:37:26.523763Z",
     "iopub.status.idle": "2022-05-13T18:37:26.549346Z",
     "shell.execute_reply": "2022-05-13T18:37:26.548168Z"
    },
    "papermill": {
     "duration": 0.305786,
     "end_time": "2022-05-13T18:37:26.553668",
     "exception": false,
     "start_time": "2022-05-13T18:37:26.247882",
     "status": "completed"
    },
    "tags": []
   },
   "outputs": [
    {
     "name": "stdout",
     "output_type": "stream",
     "text": [
      "Feature number 27 is a string\n",
      "with 10 different character positions (1-10)\n",
      "where each character position will contain\n",
      "one of 26 possible characters (A-Z):\n",
      "\n",
      "\n",
      "Unexpected exception formatting exception. Falling back to standard exception\n"
     ]
    },
    {
     "name": "stderr",
     "output_type": "stream",
     "text": [
      "Traceback (most recent call last):\n",
      "  File \"/media/D/Git/Kaggle-Journey/venv/lib/python3.10/site-packages/IPython/core/interactiveshell.py\", line 3397, in run_code\n",
      "  File \"/tmp/ipykernel_4062/1205948468.py\", line 5, in <cell line: 5>\n",
      "    train_df[['f_27']].head()\n",
      "NameError: name 'train_df' is not defined\n",
      "\n",
      "During handling of the above exception, another exception occurred:\n",
      "\n",
      "Traceback (most recent call last):\n",
      "  File \"/media/D/Git/Kaggle-Journey/venv/lib/python3.10/site-packages/pygments/styles/__init__.py\", line 78, in get_style_by_name\n",
      "ModuleNotFoundError: No module named 'pygments.styles.default'\n",
      "\n",
      "During handling of the above exception, another exception occurred:\n",
      "\n",
      "Traceback (most recent call last):\n",
      "  File \"/media/D/Git/Kaggle-Journey/venv/lib/python3.10/site-packages/IPython/core/interactiveshell.py\", line 1992, in showtraceback\n",
      "  File \"/media/D/Git/Kaggle-Journey/venv/lib/python3.10/site-packages/IPython/core/ultratb.py\", line 1118, in structured_traceback\n",
      "  File \"/media/D/Git/Kaggle-Journey/venv/lib/python3.10/site-packages/IPython/core/ultratb.py\", line 1012, in structured_traceback\n",
      "  File \"/media/D/Git/Kaggle-Journey/venv/lib/python3.10/site-packages/IPython/core/ultratb.py\", line 865, in structured_traceback\n",
      "  File \"/media/D/Git/Kaggle-Journey/venv/lib/python3.10/site-packages/IPython/core/ultratb.py\", line 799, in format_exception_as_a_whole\n",
      "  File \"/media/D/Git/Kaggle-Journey/venv/lib/python3.10/site-packages/IPython/core/ultratb.py\", line 844, in get_records\n",
      "  File \"/media/D/Git/Kaggle-Journey/venv/lib/python3.10/site-packages/pygments/styles/__init__.py\", line 80, in get_style_by_name\n",
      "pygments.util.ClassNotFound: Could not find style module 'default', though it should be builtin.\n"
     ]
    }
   ],
   "source": [
    "print('Feature number 27 is a string') \n",
    "print('with 10 different character positions (1-10)') \n",
    "print('where each character position will contain')\n",
    "print('one of 26 possible characters (A-Z):\\n\\n')\n",
    "train_df[['f_27']].head()"
   ]
  },
  {
   "cell_type": "code",
   "execution_count": 12,
   "id": "e94872bd",
   "metadata": {
    "_kg_hide-output": true,
    "execution": {
     "iopub.execute_input": "2022-05-13T18:37:27.086632Z",
     "iopub.status.busy": "2022-05-13T18:37:27.085993Z",
     "iopub.status.idle": "2022-05-13T18:37:50.064072Z",
     "shell.execute_reply": "2022-05-13T18:37:50.063047Z"
    },
    "papermill": {
     "duration": 23.246687,
     "end_time": "2022-05-13T18:37:50.067078",
     "exception": false,
     "start_time": "2022-05-13T18:37:26.820391",
     "status": "completed"
    },
    "tags": []
   },
   "outputs": [
    {
     "name": "stdout",
     "output_type": "stream",
     "text": [
      "Unexpected exception formatting exception. Falling back to standard exception\n"
     ]
    },
    {
     "name": "stderr",
     "output_type": "stream",
     "text": [
      "Traceback (most recent call last):\n",
      "  File \"/media/D/Git/Kaggle-Journey/venv/lib/python3.10/site-packages/IPython/core/interactiveshell.py\", line 3397, in run_code\n",
      "  File \"/tmp/ipykernel_4062/1179822482.py\", line 1, in <cell line: 1>\n",
      "    train_df = expand_feature_27(train_df)\n",
      "NameError: name 'train_df' is not defined\n",
      "\n",
      "During handling of the above exception, another exception occurred:\n",
      "\n",
      "Traceback (most recent call last):\n",
      "  File \"/media/D/Git/Kaggle-Journey/venv/lib/python3.10/site-packages/pygments/styles/__init__.py\", line 78, in get_style_by_name\n",
      "ModuleNotFoundError: No module named 'pygments.styles.default'\n",
      "\n",
      "During handling of the above exception, another exception occurred:\n",
      "\n",
      "Traceback (most recent call last):\n",
      "  File \"/media/D/Git/Kaggle-Journey/venv/lib/python3.10/site-packages/IPython/core/interactiveshell.py\", line 1992, in showtraceback\n",
      "  File \"/media/D/Git/Kaggle-Journey/venv/lib/python3.10/site-packages/IPython/core/ultratb.py\", line 1118, in structured_traceback\n",
      "  File \"/media/D/Git/Kaggle-Journey/venv/lib/python3.10/site-packages/IPython/core/ultratb.py\", line 1012, in structured_traceback\n",
      "  File \"/media/D/Git/Kaggle-Journey/venv/lib/python3.10/site-packages/IPython/core/ultratb.py\", line 865, in structured_traceback\n",
      "  File \"/media/D/Git/Kaggle-Journey/venv/lib/python3.10/site-packages/IPython/core/ultratb.py\", line 799, in format_exception_as_a_whole\n",
      "  File \"/media/D/Git/Kaggle-Journey/venv/lib/python3.10/site-packages/IPython/core/ultratb.py\", line 844, in get_records\n",
      "  File \"/media/D/Git/Kaggle-Journey/venv/lib/python3.10/site-packages/pygments/styles/__init__.py\", line 80, in get_style_by_name\n",
      "pygments.util.ClassNotFound: Could not find style module 'default', though it should be builtin.\n"
     ]
    }
   ],
   "source": [
    "train_df = expand_feature_27(train_df)\n",
    "test_df = expand_feature_27(test_df)\n",
    "train_tfds = tfdf.keras.pd_dataframe_to_tf_dataset(train_df, label=\"target\")\n",
    "test_tfds = tfdf.keras.pd_dataframe_to_tf_dataset(test_df)"
   ]
  },
  {
   "cell_type": "code",
   "execution_count": 13,
   "id": "5031a2ec",
   "metadata": {
    "_kg_hide-input": true,
    "execution": {
     "iopub.execute_input": "2022-05-13T18:37:50.605846Z",
     "iopub.status.busy": "2022-05-13T18:37:50.605477Z",
     "iopub.status.idle": "2022-05-13T18:37:50.847742Z",
     "shell.execute_reply": "2022-05-13T18:37:50.846593Z"
    },
    "papermill": {
     "duration": 0.515488,
     "end_time": "2022-05-13T18:37:50.852820",
     "exception": false,
     "start_time": "2022-05-13T18:37:50.337332",
     "status": "completed"
    },
    "tags": []
   },
   "outputs": [
    {
     "name": "stdout",
     "output_type": "stream",
     "text": [
      "\n",
      "\n",
      "New features split out from f_27:\n",
      "\n",
      "\n",
      "Unexpected exception formatting exception. Falling back to standard exception\n"
     ]
    },
    {
     "name": "stderr",
     "output_type": "stream",
     "text": [
      "Traceback (most recent call last):\n",
      "  File \"/media/D/Git/Kaggle-Journey/venv/lib/python3.10/site-packages/IPython/core/interactiveshell.py\", line 3397, in run_code\n",
      "  File \"/tmp/ipykernel_4062/614407029.py\", line 2, in <cell line: 2>\n",
      "    train_df[['f_27','ch0', 'ch1', 'ch2', 'ch3', 'ch4', 'ch5', 'ch6', 'ch7',\n",
      "NameError: name 'train_df' is not defined\n",
      "\n",
      "During handling of the above exception, another exception occurred:\n",
      "\n",
      "Traceback (most recent call last):\n",
      "  File \"/media/D/Git/Kaggle-Journey/venv/lib/python3.10/site-packages/pygments/styles/__init__.py\", line 78, in get_style_by_name\n",
      "ModuleNotFoundError: No module named 'pygments.styles.default'\n",
      "\n",
      "During handling of the above exception, another exception occurred:\n",
      "\n",
      "Traceback (most recent call last):\n",
      "  File \"/media/D/Git/Kaggle-Journey/venv/lib/python3.10/site-packages/IPython/core/interactiveshell.py\", line 1992, in showtraceback\n",
      "  File \"/media/D/Git/Kaggle-Journey/venv/lib/python3.10/site-packages/IPython/core/ultratb.py\", line 1118, in structured_traceback\n",
      "  File \"/media/D/Git/Kaggle-Journey/venv/lib/python3.10/site-packages/IPython/core/ultratb.py\", line 1012, in structured_traceback\n",
      "  File \"/media/D/Git/Kaggle-Journey/venv/lib/python3.10/site-packages/IPython/core/ultratb.py\", line 865, in structured_traceback\n",
      "  File \"/media/D/Git/Kaggle-Journey/venv/lib/python3.10/site-packages/IPython/core/ultratb.py\", line 799, in format_exception_as_a_whole\n",
      "  File \"/media/D/Git/Kaggle-Journey/venv/lib/python3.10/site-packages/IPython/core/ultratb.py\", line 844, in get_records\n",
      "  File \"/media/D/Git/Kaggle-Journey/venv/lib/python3.10/site-packages/pygments/styles/__init__.py\", line 80, in get_style_by_name\n",
      "pygments.util.ClassNotFound: Could not find style module 'default', though it should be builtin.\n"
     ]
    }
   ],
   "source": [
    "print('\\n\\nNew features split out from f_27:\\n\\n')\n",
    "train_df[['f_27','ch0', 'ch1', 'ch2', 'ch3', 'ch4', 'ch5', 'ch6', 'ch7',\n",
    "       'ch8', 'ch9', 'unique_characters', 'i_02_21', 'i_05_22',\n",
    "       'i_00_01_26']].head()"
   ]
  },
  {
   "cell_type": "markdown",
   "id": "6a521638",
   "metadata": {
    "papermill": {
     "duration": 0.267543,
     "end_time": "2022-05-13T18:37:51.386963",
     "exception": false,
     "start_time": "2022-05-13T18:37:51.119420",
     "status": "completed"
    },
    "tags": []
   },
   "source": [
    "To get to the top of the leaderboard you will likely want to do a lot more [feature engineering and feature selection](https://www.kaggle.com/learn/feature-engineering), as these steps were intentionally kept to a minimum in this tutorial (for the sake of brevity)."
   ]
  },
  {
   "cell_type": "markdown",
   "id": "9c9ae3a3",
   "metadata": {
    "papermill": {
     "duration": 0.266448,
     "end_time": "2022-05-13T18:37:51.919431",
     "exception": false,
     "start_time": "2022-05-13T18:37:51.652983",
     "status": "completed"
    },
    "tags": []
   },
   "source": [
    "# RandomForest\n",
    "\n",
    "Next we will take our training data and we will use it to train a Random Forest model (to predict whether a given piece of machinery is in a state of \"0\" or \"1\")."
   ]
  },
  {
   "cell_type": "markdown",
   "id": "038e9d17",
   "metadata": {
    "papermill": {
     "duration": 0.269563,
     "end_time": "2022-05-13T18:37:52.454802",
     "exception": false,
     "start_time": "2022-05-13T18:37:52.185239",
     "status": "completed"
    },
    "tags": []
   },
   "source": [
    "Step 6: Train a [Random Forest](https://www.stat.berkeley.edu/~breiman/randomforest2001.pdf) Model\n",
    "\n",
    "\n",
    "\n",
    "> \"A Random Forest is a collection of deep CART decision trees trained independently and without pruning. Each tree is trained on a random subset of the original training dataset (sampled with replacement).\n",
    "> \n",
    "> The algorithm is unique in that it is robust to overfitting, even in extreme cases e.g. when there is more features than training examples.\n",
    "> \n",
    "> It is probably the most well-known of the Decision Forest training algorithms\"\n",
    "\n",
    "\n",
    "\n",
    "\n",
    " ~ Quoted from [TFDF RandomForest documentation ](https://www.tensorflow.org/decision_forests/api_docs/python/tfdf/keras/RandomForestModel)"
   ]
  },
  {
   "cell_type": "markdown",
   "id": "ac5649d2",
   "metadata": {
    "papermill": {
     "duration": 0.267213,
     "end_time": "2022-05-13T18:37:52.988956",
     "exception": false,
     "start_time": "2022-05-13T18:37:52.721743",
     "status": "completed"
    },
    "tags": []
   },
   "source": [
    "One neat thing about TF-DF is that in addition to having a default set of hyper-parameters, you are also provided with a list of additional hyper-parameter choices to consider.  This makes it a lot easier to optimize model performance because you do not have to do this expensive hyper-parameter optimization step all by yourself."
   ]
  },
  {
   "cell_type": "code",
   "execution_count": 14,
   "id": "407f49cc",
   "metadata": {
    "execution": {
     "iopub.execute_input": "2022-05-13T18:37:53.529893Z",
     "iopub.status.busy": "2022-05-13T18:37:53.529310Z",
     "iopub.status.idle": "2022-05-13T18:37:53.535573Z",
     "shell.execute_reply": "2022-05-13T18:37:53.534475Z"
    },
    "papermill": {
     "duration": 0.284542,
     "end_time": "2022-05-13T18:37:53.540886",
     "exception": false,
     "start_time": "2022-05-13T18:37:53.256344",
     "status": "completed"
    },
    "tags": []
   },
   "outputs": [
    {
     "name": "stdout",
     "output_type": "stream",
     "text": [
      "Unexpected exception formatting exception. Falling back to standard exception\n"
     ]
    },
    {
     "name": "stderr",
     "output_type": "stream",
     "text": [
      "Traceback (most recent call last):\n",
      "  File \"/media/D/Git/Kaggle-Journey/venv/lib/python3.10/site-packages/IPython/core/interactiveshell.py\", line 3397, in run_code\n",
      "  File \"/tmp/ipykernel_4062/3053598948.py\", line 1, in <cell line: 1>\n",
      "    print(tfdf.keras.RandomForestModel.predefined_hyperparameters())\n",
      "NameError: name 'tfdf' is not defined\n",
      "\n",
      "During handling of the above exception, another exception occurred:\n",
      "\n",
      "Traceback (most recent call last):\n",
      "  File \"/media/D/Git/Kaggle-Journey/venv/lib/python3.10/site-packages/pygments/styles/__init__.py\", line 78, in get_style_by_name\n",
      "ModuleNotFoundError: No module named 'pygments.styles.default'\n",
      "\n",
      "During handling of the above exception, another exception occurred:\n",
      "\n",
      "Traceback (most recent call last):\n",
      "  File \"/media/D/Git/Kaggle-Journey/venv/lib/python3.10/site-packages/IPython/core/interactiveshell.py\", line 1992, in showtraceback\n",
      "  File \"/media/D/Git/Kaggle-Journey/venv/lib/python3.10/site-packages/IPython/core/ultratb.py\", line 1118, in structured_traceback\n",
      "  File \"/media/D/Git/Kaggle-Journey/venv/lib/python3.10/site-packages/IPython/core/ultratb.py\", line 1012, in structured_traceback\n",
      "  File \"/media/D/Git/Kaggle-Journey/venv/lib/python3.10/site-packages/IPython/core/ultratb.py\", line 865, in structured_traceback\n",
      "  File \"/media/D/Git/Kaggle-Journey/venv/lib/python3.10/site-packages/IPython/core/ultratb.py\", line 799, in format_exception_as_a_whole\n",
      "  File \"/media/D/Git/Kaggle-Journey/venv/lib/python3.10/site-packages/IPython/core/ultratb.py\", line 844, in get_records\n",
      "  File \"/media/D/Git/Kaggle-Journey/venv/lib/python3.10/site-packages/pygments/styles/__init__.py\", line 80, in get_style_by_name\n",
      "pygments.util.ClassNotFound: Could not find style module 'default', though it should be builtin.\n"
     ]
    }
   ],
   "source": [
    "print(tfdf.keras.RandomForestModel.predefined_hyperparameters())"
   ]
  },
  {
   "cell_type": "code",
   "execution_count": 15,
   "id": "4fa98f24",
   "metadata": {
    "execution": {
     "iopub.execute_input": "2022-05-13T18:37:54.075706Z",
     "iopub.status.busy": "2022-05-13T18:37:54.075392Z",
     "iopub.status.idle": "2022-05-13T19:04:46.797535Z",
     "shell.execute_reply": "2022-05-13T19:04:46.796558Z"
    },
    "papermill": {
     "duration": 1612.990376,
     "end_time": "2022-05-13T19:04:46.799930",
     "exception": false,
     "start_time": "2022-05-13T18:37:53.809554",
     "status": "completed"
    },
    "tags": []
   },
   "outputs": [],
   "source": [
    "# Train the model\n",
    "# rf_model = tfdf.keras.RandomForestModel(hyperparameter_template=\"better_default\")\n",
    "# rf_model.compile(metrics=[tf.keras.metrics.AUC(curve=\"ROC\")]) \n",
    "# rf_model.fit(x=train_tfds)"
   ]
  },
  {
   "cell_type": "code",
   "execution_count": 16,
   "id": "ee77df11",
   "metadata": {
    "_kg_hide-input": true,
    "_kg_hide-output": true,
    "execution": {
     "iopub.execute_input": "2022-05-13T19:04:47.741796Z",
     "iopub.status.busy": "2022-05-13T19:04:47.741444Z",
     "iopub.status.idle": "2022-05-13T19:04:48.156330Z",
     "shell.execute_reply": "2022-05-13T19:04:48.155132Z"
    },
    "papermill": {
     "duration": 0.885152,
     "end_time": "2022-05-13T19:04:48.159899",
     "exception": false,
     "start_time": "2022-05-13T19:04:47.274747",
     "status": "completed"
    },
    "tags": []
   },
   "outputs": [],
   "source": [
    "# Visualize the model\n",
    "# Currently this step works in the Kaggle Notebook Editor but unfortunately displays an empty/blank visualization in the Notebook Viewer\n",
    "# tfdf.model_plotter.plot_model_in_colab(rf_model, tree_idx=0, max_depth=3)"
   ]
  },
  {
   "cell_type": "markdown",
   "id": "4ce373f7",
   "metadata": {
    "papermill": {
     "duration": 0.470105,
     "end_time": "2022-05-13T19:04:49.101749",
     "exception": false,
     "start_time": "2022-05-13T19:04:48.631644",
     "status": "completed"
    },
    "tags": []
   },
   "source": [
    "Step 7: Evaluate your Random Forest Model"
   ]
  },
  {
   "cell_type": "code",
   "execution_count": 17,
   "id": "e720f8c9",
   "metadata": {
    "execution": {
     "iopub.execute_input": "2022-05-13T19:04:50.042046Z",
     "iopub.status.busy": "2022-05-13T19:04:50.041761Z",
     "iopub.status.idle": "2022-05-13T19:04:50.392421Z",
     "shell.execute_reply": "2022-05-13T19:04:50.391439Z"
    },
    "papermill": {
     "duration": 0.823867,
     "end_time": "2022-05-13T19:04:50.394818",
     "exception": false,
     "start_time": "2022-05-13T19:04:49.570951",
     "status": "completed"
    },
    "tags": []
   },
   "outputs": [],
   "source": [
    "# plot_tfdf_model_training_curves(rf_model)"
   ]
  },
  {
   "cell_type": "code",
   "execution_count": 18,
   "id": "67e0fea5",
   "metadata": {
    "execution": {
     "iopub.execute_input": "2022-05-13T19:04:51.379891Z",
     "iopub.status.busy": "2022-05-13T19:04:51.379061Z",
     "iopub.status.idle": "2022-05-13T19:04:51.391589Z",
     "shell.execute_reply": "2022-05-13T19:04:51.390565Z"
    },
    "papermill": {
     "duration": 0.481095,
     "end_time": "2022-05-13T19:04:51.393840",
     "exception": false,
     "start_time": "2022-05-13T19:04:50.912745",
     "status": "completed"
    },
    "tags": []
   },
   "outputs": [],
   "source": [
    "# inspector = rf_model.make_inspector()\n",
    "# inspector.evaluation()"
   ]
  },
  {
   "cell_type": "code",
   "execution_count": 19,
   "id": "84262b27",
   "metadata": {
    "execution": {
     "iopub.execute_input": "2022-05-13T19:04:52.357879Z",
     "iopub.status.busy": "2022-05-13T19:04:52.357446Z",
     "iopub.status.idle": "2022-05-13T19:06:52.412806Z",
     "shell.execute_reply": "2022-05-13T19:06:52.410918Z"
    },
    "papermill": {
     "duration": 120.536787,
     "end_time": "2022-05-13T19:06:52.421129",
     "exception": false,
     "start_time": "2022-05-13T19:04:51.884342",
     "status": "completed"
    },
    "tags": []
   },
   "outputs": [],
   "source": [
    "# rf_model.evaluate(train_tfds)"
   ]
  },
  {
   "cell_type": "code",
   "execution_count": 20,
   "id": "7cfb62df",
   "metadata": {
    "execution": {
     "iopub.execute_input": "2022-05-13T19:06:54.455319Z",
     "iopub.status.busy": "2022-05-13T19:06:54.454925Z",
     "iopub.status.idle": "2022-05-13T19:06:54.462337Z",
     "shell.execute_reply": "2022-05-13T19:06:54.461312Z"
    },
    "papermill": {
     "duration": 1.197252,
     "end_time": "2022-05-13T19:06:54.466229",
     "exception": false,
     "start_time": "2022-05-13T19:06:53.268977",
     "status": "completed"
    },
    "tags": []
   },
   "outputs": [],
   "source": [
    "# print(\"Model type:\", inspector.model_type())\n",
    "# print(\"Objective:\", inspector.objective())\n",
    "# print(\"Evaluation:\", inspector.evaluation())"
   ]
  },
  {
   "cell_type": "markdown",
   "id": "5a835be5",
   "metadata": {
    "papermill": {
     "duration": 0.865629,
     "end_time": "2022-05-13T19:06:56.173875",
     "exception": false,
     "start_time": "2022-05-13T19:06:55.308246",
     "status": "completed"
    },
    "tags": []
   },
   "source": [
    "90% accuracy is not a bad baseline result given how quickly we put this together (and with so few lines of code)."
   ]
  },
  {
   "cell_type": "markdown",
   "id": "b3a384d2",
   "metadata": {
    "papermill": {
     "duration": 0.997098,
     "end_time": "2022-05-13T19:06:58.547917",
     "exception": false,
     "start_time": "2022-05-13T19:06:57.550819",
     "status": "completed"
    },
    "tags": []
   },
   "source": [
    "Step 8: Investigate variable importances for the RandomForest model"
   ]
  },
  {
   "cell_type": "markdown",
   "id": "514c8dbe",
   "metadata": {
    "papermill": {
     "duration": 0.843007,
     "end_time": "2022-05-13T19:07:00.243269",
     "exception": false,
     "start_time": "2022-05-13T19:06:59.400262",
     "status": "completed"
    },
    "tags": []
   },
   "source": [
    "\n",
    "Variable importances (VI) describe the impact of each feature to the model.\n",
    " - > VIs generally indicates how much a variable contributes to the model predictions or quality. Different VIs have different semantics and are generally not comparable.\n",
    " - > The VIs returned by variable_importances() depends on the learning algorithm and its hyper-parameters. For example, the hyperparameter compute_oob_variable_importances=True of the Random Forest learner enables the computation of permutation out-of-bag variable importances.\n",
    " - > Variable importances can be obtained with tfdf.inspector.make_inspector(path).variable_importances().\n",
    "\n",
    "The available variable importances are:\n",
    " - > Model agnostic\n",
    "  - > MEAN_{INCREASE,DECREASE}_IN_{metric}: Estimated metric change from removing a feature using permutation importance . Depending on the learning algorithm and hyper-parameters, the VIs can be computed with validation, cross-validation or out-of-bag. For example, the MEAN_DECREASE_IN_ACCURACY of a feature is the drop in accuracy (the larger, the most important the feature) caused by shuffling the values of a features. For example, MEAN_DECREASE_IN_AUC_3_VS_OTHERS is the expected drop in AUC when comparing the label class \"3\" to the others.\n",
    " - > Decision Forests specific\n",
    "  - > SUM_SCORE: Sum of the split scores using a specific feature. The larger, the most important.\n",
    "  - > NUM_AS_ROOT: Number of root nodes using a specific feature. The larger, the most important.\n",
    "  - > NUM_NODES: Number of nodes using a specific feature. The larger, the most important.\n",
    "  - > MEAN_MIN_DEPTH: Average minimum depth of the first occurence of a feature across all the tree paths. The smaller, the most important.\n",
    "  \n",
    "\n",
    "~ Quoted from [TensorFlow Decision Forests](https://www.tensorflow.org/decision_forests/api_docs/python/tfdf/inspector/AbstractInspector#variable_importances) documentation and [yggdrasil-decision-forests](https://github.com/google/yggdrasil-decision-forests/blob/main/documentation/user_manual.md#variable-importances) documentation.\n"
   ]
  },
  {
   "cell_type": "code",
   "execution_count": 21,
   "id": "304b926c",
   "metadata": {
    "execution": {
     "iopub.execute_input": "2022-05-13T19:07:01.921564Z",
     "iopub.status.busy": "2022-05-13T19:07:01.921241Z",
     "iopub.status.idle": "2022-05-13T19:07:01.929599Z",
     "shell.execute_reply": "2022-05-13T19:07:01.928585Z"
    },
    "papermill": {
     "duration": 0.849495,
     "end_time": "2022-05-13T19:07:01.932593",
     "exception": false,
     "start_time": "2022-05-13T19:07:01.083098",
     "status": "completed"
    },
    "tags": []
   },
   "outputs": [],
   "source": [
    "# Adapted from https://www.tensorflow.org/decision_forests/tutorials/advanced_colab\n",
    "# See list of inspector methods from:\n",
    "# [field for field in dir(inspector) if not field.startswith(\"_\")]\n",
    "# print(f\"Available variable importances:\")\n",
    "# for importance in inspector.variable_importances().keys():\n",
    "#   print(\"\\t\", importance)"
   ]
  },
  {
   "cell_type": "markdown",
   "id": "991c042e",
   "metadata": {
    "papermill": {
     "duration": 0.844406,
     "end_time": "2022-05-13T19:07:03.613928",
     "exception": false,
     "start_time": "2022-05-13T19:07:02.769522",
     "status": "completed"
    },
    "tags": []
   },
   "source": [
    "Variable importances describe how each feature impacts the model. Here we can see that our 4 most important features were \"unique_characters\",\"i_00_01_26\",\"i_02_21\", and \"i_05_22\". We created these features during our feature engineering step and it looks like it made a big difference!"
   ]
  },
  {
   "cell_type": "code",
   "execution_count": 22,
   "id": "48ce56de",
   "metadata": {
    "execution": {
     "iopub.execute_input": "2022-05-13T19:07:05.666432Z",
     "iopub.status.busy": "2022-05-13T19:07:05.666137Z",
     "iopub.status.idle": "2022-05-13T19:07:05.676047Z",
     "shell.execute_reply": "2022-05-13T19:07:05.675059Z"
    },
    "papermill": {
     "duration": 1.230074,
     "end_time": "2022-05-13T19:07:05.680350",
     "exception": false,
     "start_time": "2022-05-13T19:07:04.450276",
     "status": "completed"
    },
    "tags": []
   },
   "outputs": [],
   "source": [
    "# inspector.variable_importances()[\"SUM_SCORE\"]"
   ]
  },
  {
   "cell_type": "markdown",
   "id": "60019b24",
   "metadata": {
    "papermill": {
     "duration": 0.832925,
     "end_time": "2022-05-13T19:07:07.350813",
     "exception": false,
     "start_time": "2022-05-13T19:07:06.517888",
     "status": "completed"
    },
    "tags": []
   },
   "source": [
    "# GradientBoostedTrees\n",
    "\n",
    "Next we will take our training data and we will use it to train a Gradient Boosted model (to predict whether a given piece of machinery is in a state of \"0\" or \"1\")."
   ]
  },
  {
   "cell_type": "markdown",
   "id": "c149604b",
   "metadata": {
    "papermill": {
     "duration": 0.834589,
     "end_time": "2022-05-13T19:07:09.075063",
     "exception": false,
     "start_time": "2022-05-13T19:07:08.240474",
     "status": "completed"
    },
    "tags": []
   },
   "source": [
    "Step 9: Train a [GradientBoostedTrees](https://statweb.stanford.edu/~jhf/ftp/trebst.pdf) model.  GradientBoostedTrees often perform better than the RandomForests we were using previously.\n",
    "\n",
    "\n",
    "\n",
    "> \"A GBT (Gradient Boosted Tree) is a set of shallow decision trees trained sequentially. Each tree is trained to predict and then \"correct\" for the errors of the previously trained trees (more precisely each tree predict the gradient of the loss relative to the model output)\"\n",
    "\n",
    "\n",
    "\n",
    " ~ Quoted from [TFDF GradientBoostedTrees documentation ](https://www.tensorflow.org/decision_forests/api_docs/python/tfdf/keras/GradientBoostedTreesModel)\n"
   ]
  },
  {
   "cell_type": "code",
   "execution_count": 23,
   "id": "27414132",
   "metadata": {
    "execution": {
     "iopub.execute_input": "2022-05-13T19:07:10.757869Z",
     "iopub.status.busy": "2022-05-13T19:07:10.757529Z",
     "iopub.status.idle": "2022-05-13T19:07:10.763378Z",
     "shell.execute_reply": "2022-05-13T19:07:10.762372Z"
    },
    "papermill": {
     "duration": 0.850193,
     "end_time": "2022-05-13T19:07:10.767657",
     "exception": false,
     "start_time": "2022-05-13T19:07:09.917464",
     "status": "completed"
    },
    "tags": []
   },
   "outputs": [
    {
     "name": "stdout",
     "output_type": "stream",
     "text": [
      "Unexpected exception formatting exception. Falling back to standard exception\n"
     ]
    },
    {
     "name": "stderr",
     "output_type": "stream",
     "text": [
      "Traceback (most recent call last):\n",
      "  File \"/media/D/Git/Kaggle-Journey/venv/lib/python3.10/site-packages/IPython/core/interactiveshell.py\", line 3397, in run_code\n",
      "  File \"/tmp/ipykernel_4062/2253450320.py\", line 2, in <cell line: 2>\n",
      "    print(tfdf.keras.GradientBoostedTreesModel.predefined_hyperparameters())\n",
      "NameError: name 'tfdf' is not defined\n",
      "\n",
      "During handling of the above exception, another exception occurred:\n",
      "\n",
      "Traceback (most recent call last):\n",
      "  File \"/media/D/Git/Kaggle-Journey/venv/lib/python3.10/site-packages/pygments/styles/__init__.py\", line 78, in get_style_by_name\n",
      "ModuleNotFoundError: No module named 'pygments.styles.default'\n",
      "\n",
      "During handling of the above exception, another exception occurred:\n",
      "\n",
      "Traceback (most recent call last):\n",
      "  File \"/media/D/Git/Kaggle-Journey/venv/lib/python3.10/site-packages/IPython/core/interactiveshell.py\", line 1992, in showtraceback\n",
      "  File \"/media/D/Git/Kaggle-Journey/venv/lib/python3.10/site-packages/IPython/core/ultratb.py\", line 1118, in structured_traceback\n",
      "  File \"/media/D/Git/Kaggle-Journey/venv/lib/python3.10/site-packages/IPython/core/ultratb.py\", line 1012, in structured_traceback\n",
      "  File \"/media/D/Git/Kaggle-Journey/venv/lib/python3.10/site-packages/IPython/core/ultratb.py\", line 865, in structured_traceback\n",
      "  File \"/media/D/Git/Kaggle-Journey/venv/lib/python3.10/site-packages/IPython/core/ultratb.py\", line 799, in format_exception_as_a_whole\n",
      "  File \"/media/D/Git/Kaggle-Journey/venv/lib/python3.10/site-packages/IPython/core/ultratb.py\", line 844, in get_records\n",
      "  File \"/media/D/Git/Kaggle-Journey/venv/lib/python3.10/site-packages/pygments/styles/__init__.py\", line 80, in get_style_by_name\n",
      "pygments.util.ClassNotFound: Could not find style module 'default', though it should be builtin.\n"
     ]
    }
   ],
   "source": [
    "# As mentioned previously, TF-DF gives you lots of different \"default\" hyper-parameter settings to choose from.\n",
    "print(tfdf.keras.GradientBoostedTreesModel.predefined_hyperparameters())"
   ]
  },
  {
   "cell_type": "code",
   "execution_count": 24,
   "id": "3256fbf0",
   "metadata": {
    "execution": {
     "iopub.execute_input": "2022-05-13T19:07:12.435926Z",
     "iopub.status.busy": "2022-05-13T19:07:12.435586Z",
     "iopub.status.idle": "2022-05-13T20:44:35.894831Z",
     "shell.execute_reply": "2022-05-13T20:44:35.893795Z"
    },
    "papermill": {
     "duration": 5844.727107,
     "end_time": "2022-05-13T20:44:36.325941",
     "exception": false,
     "start_time": "2022-05-13T19:07:11.598834",
     "status": "completed"
    },
    "tags": []
   },
   "outputs": [
    {
     "name": "stdout",
     "output_type": "stream",
     "text": [
      "Unexpected exception formatting exception. Falling back to standard exception\n"
     ]
    },
    {
     "name": "stderr",
     "output_type": "stream",
     "text": [
      "Traceback (most recent call last):\n",
      "  File \"/media/D/Git/Kaggle-Journey/venv/lib/python3.10/site-packages/IPython/core/interactiveshell.py\", line 3397, in run_code\n",
      "  File \"/tmp/ipykernel_4062/3138216608.py\", line 2, in <cell line: 2>\n",
      "    gb_model = tfdf.keras.GradientBoostedTreesModel(hyperparameter_template=\"better_default\",num_trees=5000)\n",
      "NameError: name 'tfdf' is not defined\n",
      "\n",
      "During handling of the above exception, another exception occurred:\n",
      "\n",
      "Traceback (most recent call last):\n",
      "  File \"/media/D/Git/Kaggle-Journey/venv/lib/python3.10/site-packages/pygments/styles/__init__.py\", line 78, in get_style_by_name\n",
      "ModuleNotFoundError: No module named 'pygments.styles.default'\n",
      "\n",
      "During handling of the above exception, another exception occurred:\n",
      "\n",
      "Traceback (most recent call last):\n",
      "  File \"/media/D/Git/Kaggle-Journey/venv/lib/python3.10/site-packages/IPython/core/interactiveshell.py\", line 1992, in showtraceback\n",
      "  File \"/media/D/Git/Kaggle-Journey/venv/lib/python3.10/site-packages/IPython/core/ultratb.py\", line 1118, in structured_traceback\n",
      "  File \"/media/D/Git/Kaggle-Journey/venv/lib/python3.10/site-packages/IPython/core/ultratb.py\", line 1012, in structured_traceback\n",
      "  File \"/media/D/Git/Kaggle-Journey/venv/lib/python3.10/site-packages/IPython/core/ultratb.py\", line 865, in structured_traceback\n",
      "  File \"/media/D/Git/Kaggle-Journey/venv/lib/python3.10/site-packages/IPython/core/ultratb.py\", line 799, in format_exception_as_a_whole\n",
      "  File \"/media/D/Git/Kaggle-Journey/venv/lib/python3.10/site-packages/IPython/core/ultratb.py\", line 844, in get_records\n",
      "  File \"/media/D/Git/Kaggle-Journey/venv/lib/python3.10/site-packages/pygments/styles/__init__.py\", line 80, in get_style_by_name\n",
      "pygments.util.ClassNotFound: Could not find style module 'default', though it should be builtin.\n"
     ]
    }
   ],
   "source": [
    "# Train the model\n",
    "gb_model = tfdf.keras.GradientBoostedTreesModel(hyperparameter_template=\"better_default\",num_trees=5000)\n",
    "gb_model.compile(metrics=[tf.keras.metrics.AUC(curve=\"ROC\")])\n",
    "gb_model.fit(x=train_tfds)"
   ]
  },
  {
   "cell_type": "code",
   "execution_count": 25,
   "id": "1b7277cb",
   "metadata": {
    "_kg_hide-input": true,
    "_kg_hide-output": true,
    "execution": {
     "iopub.execute_input": "2022-05-13T20:44:38.717934Z",
     "iopub.status.busy": "2022-05-13T20:44:38.717385Z",
     "iopub.status.idle": "2022-05-13T20:44:38.742375Z",
     "shell.execute_reply": "2022-05-13T20:44:38.741480Z"
    },
    "papermill": {
     "duration": 1.060269,
     "end_time": "2022-05-13T20:44:38.744589",
     "exception": false,
     "start_time": "2022-05-13T20:44:37.684320",
     "status": "completed"
    },
    "tags": []
   },
   "outputs": [
    {
     "name": "stdout",
     "output_type": "stream",
     "text": [
      "Unexpected exception formatting exception. Falling back to standard exception\n"
     ]
    },
    {
     "name": "stderr",
     "output_type": "stream",
     "text": [
      "Traceback (most recent call last):\n",
      "  File \"/media/D/Git/Kaggle-Journey/venv/lib/python3.10/site-packages/IPython/core/interactiveshell.py\", line 3397, in run_code\n",
      "  File \"/tmp/ipykernel_4062/1276823423.py\", line 3, in <cell line: 3>\n",
      "    tfdf.model_plotter.plot_model_in_colab(gb_model, tree_idx=0, max_depth=3)\n",
      "NameError: name 'tfdf' is not defined\n",
      "\n",
      "During handling of the above exception, another exception occurred:\n",
      "\n",
      "Traceback (most recent call last):\n",
      "  File \"/media/D/Git/Kaggle-Journey/venv/lib/python3.10/site-packages/pygments/styles/__init__.py\", line 78, in get_style_by_name\n",
      "ModuleNotFoundError: No module named 'pygments.styles.default'\n",
      "\n",
      "During handling of the above exception, another exception occurred:\n",
      "\n",
      "Traceback (most recent call last):\n",
      "  File \"/media/D/Git/Kaggle-Journey/venv/lib/python3.10/site-packages/IPython/core/interactiveshell.py\", line 1992, in showtraceback\n",
      "  File \"/media/D/Git/Kaggle-Journey/venv/lib/python3.10/site-packages/IPython/core/ultratb.py\", line 1118, in structured_traceback\n",
      "  File \"/media/D/Git/Kaggle-Journey/venv/lib/python3.10/site-packages/IPython/core/ultratb.py\", line 1012, in structured_traceback\n",
      "  File \"/media/D/Git/Kaggle-Journey/venv/lib/python3.10/site-packages/IPython/core/ultratb.py\", line 865, in structured_traceback\n",
      "  File \"/media/D/Git/Kaggle-Journey/venv/lib/python3.10/site-packages/IPython/core/ultratb.py\", line 799, in format_exception_as_a_whole\n",
      "  File \"/media/D/Git/Kaggle-Journey/venv/lib/python3.10/site-packages/IPython/core/ultratb.py\", line 844, in get_records\n",
      "  File \"/media/D/Git/Kaggle-Journey/venv/lib/python3.10/site-packages/pygments/styles/__init__.py\", line 80, in get_style_by_name\n",
      "pygments.util.ClassNotFound: Could not find style module 'default', though it should be builtin.\n"
     ]
    }
   ],
   "source": [
    "# Visualize the model\n",
    "# Currently this step works in the Kaggle Notebook Editor but unfortunately displays an empty/blank visualization in the Notebook Viewer\n",
    "tfdf.model_plotter.plot_model_in_colab(gb_model, tree_idx=0, max_depth=3)"
   ]
  },
  {
   "cell_type": "markdown",
   "id": "3adbc4c5",
   "metadata": {
    "papermill": {
     "duration": 1.038164,
     "end_time": "2022-05-13T20:44:40.825990",
     "exception": false,
     "start_time": "2022-05-13T20:44:39.787826",
     "status": "completed"
    },
    "tags": []
   },
   "source": [
    "Step 10: Evaluate your GradientBoostedTrees  Model"
   ]
  },
  {
   "cell_type": "code",
   "execution_count": 26,
   "id": "e5a2fcaf",
   "metadata": {
    "execution": {
     "iopub.execute_input": "2022-05-13T20:44:42.918967Z",
     "iopub.status.busy": "2022-05-13T20:44:42.918677Z",
     "iopub.status.idle": "2022-05-13T20:44:43.260548Z",
     "shell.execute_reply": "2022-05-13T20:44:43.259550Z"
    },
    "papermill": {
     "duration": 1.404038,
     "end_time": "2022-05-13T20:44:43.262863",
     "exception": false,
     "start_time": "2022-05-13T20:44:41.858825",
     "status": "completed"
    },
    "tags": []
   },
   "outputs": [
    {
     "name": "stdout",
     "output_type": "stream",
     "text": [
      "Unexpected exception formatting exception. Falling back to standard exception\n"
     ]
    },
    {
     "name": "stderr",
     "output_type": "stream",
     "text": [
      "Traceback (most recent call last):\n",
      "  File \"/media/D/Git/Kaggle-Journey/venv/lib/python3.10/site-packages/IPython/core/interactiveshell.py\", line 3397, in run_code\n",
      "  File \"/tmp/ipykernel_4062/2498104270.py\", line 1, in <cell line: 1>\n",
      "    plot_tfdf_model_training_curves(gb_model)\n",
      "NameError: name 'gb_model' is not defined\n",
      "\n",
      "During handling of the above exception, another exception occurred:\n",
      "\n",
      "Traceback (most recent call last):\n",
      "  File \"/media/D/Git/Kaggle-Journey/venv/lib/python3.10/site-packages/pygments/styles/__init__.py\", line 78, in get_style_by_name\n",
      "ModuleNotFoundError: No module named 'pygments.styles.default'\n",
      "\n",
      "During handling of the above exception, another exception occurred:\n",
      "\n",
      "Traceback (most recent call last):\n",
      "  File \"/media/D/Git/Kaggle-Journey/venv/lib/python3.10/site-packages/IPython/core/interactiveshell.py\", line 1992, in showtraceback\n",
      "  File \"/media/D/Git/Kaggle-Journey/venv/lib/python3.10/site-packages/IPython/core/ultratb.py\", line 1118, in structured_traceback\n",
      "  File \"/media/D/Git/Kaggle-Journey/venv/lib/python3.10/site-packages/IPython/core/ultratb.py\", line 1012, in structured_traceback\n",
      "  File \"/media/D/Git/Kaggle-Journey/venv/lib/python3.10/site-packages/IPython/core/ultratb.py\", line 865, in structured_traceback\n",
      "  File \"/media/D/Git/Kaggle-Journey/venv/lib/python3.10/site-packages/IPython/core/ultratb.py\", line 799, in format_exception_as_a_whole\n",
      "  File \"/media/D/Git/Kaggle-Journey/venv/lib/python3.10/site-packages/IPython/core/ultratb.py\", line 844, in get_records\n",
      "  File \"/media/D/Git/Kaggle-Journey/venv/lib/python3.10/site-packages/pygments/styles/__init__.py\", line 80, in get_style_by_name\n",
      "pygments.util.ClassNotFound: Could not find style module 'default', though it should be builtin.\n"
     ]
    }
   ],
   "source": [
    "plot_tfdf_model_training_curves(gb_model)"
   ]
  },
  {
   "cell_type": "code",
   "execution_count": 27,
   "id": "55c1fde1",
   "metadata": {
    "execution": {
     "iopub.execute_input": "2022-05-13T20:44:45.331219Z",
     "iopub.status.busy": "2022-05-13T20:44:45.330892Z",
     "iopub.status.idle": "2022-05-13T20:44:45.343898Z",
     "shell.execute_reply": "2022-05-13T20:44:45.342450Z"
    },
    "papermill": {
     "duration": 1.048297,
     "end_time": "2022-05-13T20:44:45.346444",
     "exception": false,
     "start_time": "2022-05-13T20:44:44.298147",
     "status": "completed"
    },
    "tags": []
   },
   "outputs": [
    {
     "name": "stdout",
     "output_type": "stream",
     "text": [
      "Unexpected exception formatting exception. Falling back to standard exception\n"
     ]
    },
    {
     "name": "stderr",
     "output_type": "stream",
     "text": [
      "Traceback (most recent call last):\n",
      "  File \"/media/D/Git/Kaggle-Journey/venv/lib/python3.10/site-packages/IPython/core/interactiveshell.py\", line 3397, in run_code\n",
      "  File \"/tmp/ipykernel_4062/343348830.py\", line 1, in <cell line: 1>\n",
      "    inspector = gb_model.make_inspector()\n",
      "NameError: name 'gb_model' is not defined\n",
      "\n",
      "During handling of the above exception, another exception occurred:\n",
      "\n",
      "Traceback (most recent call last):\n",
      "  File \"/media/D/Git/Kaggle-Journey/venv/lib/python3.10/site-packages/pygments/styles/__init__.py\", line 78, in get_style_by_name\n",
      "ModuleNotFoundError: No module named 'pygments.styles.default'\n",
      "\n",
      "During handling of the above exception, another exception occurred:\n",
      "\n",
      "Traceback (most recent call last):\n",
      "  File \"/media/D/Git/Kaggle-Journey/venv/lib/python3.10/site-packages/IPython/core/interactiveshell.py\", line 1992, in showtraceback\n",
      "  File \"/media/D/Git/Kaggle-Journey/venv/lib/python3.10/site-packages/IPython/core/ultratb.py\", line 1118, in structured_traceback\n",
      "  File \"/media/D/Git/Kaggle-Journey/venv/lib/python3.10/site-packages/IPython/core/ultratb.py\", line 1012, in structured_traceback\n",
      "  File \"/media/D/Git/Kaggle-Journey/venv/lib/python3.10/site-packages/IPython/core/ultratb.py\", line 865, in structured_traceback\n",
      "  File \"/media/D/Git/Kaggle-Journey/venv/lib/python3.10/site-packages/IPython/core/ultratb.py\", line 799, in format_exception_as_a_whole\n",
      "  File \"/media/D/Git/Kaggle-Journey/venv/lib/python3.10/site-packages/IPython/core/ultratb.py\", line 844, in get_records\n",
      "  File \"/media/D/Git/Kaggle-Journey/venv/lib/python3.10/site-packages/pygments/styles/__init__.py\", line 80, in get_style_by_name\n",
      "pygments.util.ClassNotFound: Could not find style module 'default', though it should be builtin.\n"
     ]
    }
   ],
   "source": [
    "inspector = gb_model.make_inspector()\n",
    "inspector.evaluation()"
   ]
  },
  {
   "cell_type": "code",
   "execution_count": 28,
   "id": "5046b7ab",
   "metadata": {
    "execution": {
     "iopub.execute_input": "2022-05-13T20:44:47.475946Z",
     "iopub.status.busy": "2022-05-13T20:44:47.475626Z",
     "iopub.status.idle": "2022-05-13T20:45:44.830705Z",
     "shell.execute_reply": "2022-05-13T20:45:44.829548Z"
    },
    "papermill": {
     "duration": 58.424288,
     "end_time": "2022-05-13T20:45:44.833705",
     "exception": false,
     "start_time": "2022-05-13T20:44:46.409417",
     "status": "completed"
    },
    "tags": []
   },
   "outputs": [
    {
     "name": "stdout",
     "output_type": "stream",
     "text": [
      "Unexpected exception formatting exception. Falling back to standard exception\n"
     ]
    },
    {
     "name": "stderr",
     "output_type": "stream",
     "text": [
      "Traceback (most recent call last):\n",
      "  File \"/media/D/Git/Kaggle-Journey/venv/lib/python3.10/site-packages/IPython/core/interactiveshell.py\", line 3397, in run_code\n",
      "  File \"/tmp/ipykernel_4062/376891588.py\", line 1, in <cell line: 1>\n",
      "    gb_model.evaluate(train_tfds)\n",
      "NameError: name 'gb_model' is not defined\n",
      "\n",
      "During handling of the above exception, another exception occurred:\n",
      "\n",
      "Traceback (most recent call last):\n",
      "  File \"/media/D/Git/Kaggle-Journey/venv/lib/python3.10/site-packages/pygments/styles/__init__.py\", line 78, in get_style_by_name\n",
      "ModuleNotFoundError: No module named 'pygments.styles.default'\n",
      "\n",
      "During handling of the above exception, another exception occurred:\n",
      "\n",
      "Traceback (most recent call last):\n",
      "  File \"/media/D/Git/Kaggle-Journey/venv/lib/python3.10/site-packages/IPython/core/interactiveshell.py\", line 1992, in showtraceback\n",
      "  File \"/media/D/Git/Kaggle-Journey/venv/lib/python3.10/site-packages/IPython/core/ultratb.py\", line 1118, in structured_traceback\n",
      "  File \"/media/D/Git/Kaggle-Journey/venv/lib/python3.10/site-packages/IPython/core/ultratb.py\", line 1012, in structured_traceback\n",
      "  File \"/media/D/Git/Kaggle-Journey/venv/lib/python3.10/site-packages/IPython/core/ultratb.py\", line 865, in structured_traceback\n",
      "  File \"/media/D/Git/Kaggle-Journey/venv/lib/python3.10/site-packages/IPython/core/ultratb.py\", line 799, in format_exception_as_a_whole\n",
      "  File \"/media/D/Git/Kaggle-Journey/venv/lib/python3.10/site-packages/IPython/core/ultratb.py\", line 844, in get_records\n",
      "  File \"/media/D/Git/Kaggle-Journey/venv/lib/python3.10/site-packages/pygments/styles/__init__.py\", line 80, in get_style_by_name\n",
      "pygments.util.ClassNotFound: Could not find style module 'default', though it should be builtin.\n"
     ]
    }
   ],
   "source": [
    "gb_model.evaluate(train_tfds)"
   ]
  },
  {
   "cell_type": "code",
   "execution_count": 29,
   "id": "377cf6e3",
   "metadata": {
    "execution": {
     "iopub.execute_input": "2022-05-13T20:45:47.678939Z",
     "iopub.status.busy": "2022-05-13T20:45:47.678631Z",
     "iopub.status.idle": "2022-05-13T20:45:47.686245Z",
     "shell.execute_reply": "2022-05-13T20:45:47.685235Z"
    },
    "papermill": {
     "duration": 1.4171,
     "end_time": "2022-05-13T20:45:47.689225",
     "exception": false,
     "start_time": "2022-05-13T20:45:46.272125",
     "status": "completed"
    },
    "tags": []
   },
   "outputs": [
    {
     "name": "stdout",
     "output_type": "stream",
     "text": [
      "Unexpected exception formatting exception. Falling back to standard exception\n"
     ]
    },
    {
     "name": "stderr",
     "output_type": "stream",
     "text": [
      "Traceback (most recent call last):\n",
      "  File \"/media/D/Git/Kaggle-Journey/venv/lib/python3.10/site-packages/IPython/core/interactiveshell.py\", line 3397, in run_code\n",
      "  File \"/tmp/ipykernel_4062/2811732523.py\", line 1, in <cell line: 1>\n",
      "    print(\"Model type:\", inspector.model_type())\n",
      "NameError: name 'inspector' is not defined\n",
      "\n",
      "During handling of the above exception, another exception occurred:\n",
      "\n",
      "Traceback (most recent call last):\n",
      "  File \"/media/D/Git/Kaggle-Journey/venv/lib/python3.10/site-packages/pygments/styles/__init__.py\", line 78, in get_style_by_name\n",
      "ModuleNotFoundError: No module named 'pygments.styles.default'\n",
      "\n",
      "During handling of the above exception, another exception occurred:\n",
      "\n",
      "Traceback (most recent call last):\n",
      "  File \"/media/D/Git/Kaggle-Journey/venv/lib/python3.10/site-packages/IPython/core/interactiveshell.py\", line 1992, in showtraceback\n",
      "  File \"/media/D/Git/Kaggle-Journey/venv/lib/python3.10/site-packages/IPython/core/ultratb.py\", line 1118, in structured_traceback\n",
      "  File \"/media/D/Git/Kaggle-Journey/venv/lib/python3.10/site-packages/IPython/core/ultratb.py\", line 1012, in structured_traceback\n",
      "  File \"/media/D/Git/Kaggle-Journey/venv/lib/python3.10/site-packages/IPython/core/ultratb.py\", line 865, in structured_traceback\n",
      "  File \"/media/D/Git/Kaggle-Journey/venv/lib/python3.10/site-packages/IPython/core/ultratb.py\", line 799, in format_exception_as_a_whole\n",
      "  File \"/media/D/Git/Kaggle-Journey/venv/lib/python3.10/site-packages/IPython/core/ultratb.py\", line 844, in get_records\n",
      "  File \"/media/D/Git/Kaggle-Journey/venv/lib/python3.10/site-packages/pygments/styles/__init__.py\", line 80, in get_style_by_name\n",
      "pygments.util.ClassNotFound: Could not find style module 'default', though it should be builtin.\n"
     ]
    }
   ],
   "source": [
    "print(\"Model type:\", inspector.model_type())\n",
    "print(\"Objective:\", inspector.objective())\n",
    "print(\"Evaluation:\", inspector.evaluation())"
   ]
  },
  {
   "cell_type": "code",
   "execution_count": 30,
   "id": "4be04132",
   "metadata": {
    "execution": {
     "iopub.execute_input": "2022-05-13T20:45:50.569488Z",
     "iopub.status.busy": "2022-05-13T20:45:50.569172Z",
     "iopub.status.idle": "2022-05-13T20:46:47.929641Z",
     "shell.execute_reply": "2022-05-13T20:46:47.928496Z"
    },
    "papermill": {
     "duration": 58.78056,
     "end_time": "2022-05-13T20:46:47.932074",
     "exception": false,
     "start_time": "2022-05-13T20:45:49.151514",
     "status": "completed"
    },
    "tags": []
   },
   "outputs": [
    {
     "name": "stdout",
     "output_type": "stream",
     "text": [
      "Unexpected exception formatting exception. Falling back to standard exception\n"
     ]
    },
    {
     "name": "stderr",
     "output_type": "stream",
     "text": [
      "Traceback (most recent call last):\n",
      "  File \"/media/D/Git/Kaggle-Journey/venv/lib/python3.10/site-packages/IPython/core/interactiveshell.py\", line 3397, in run_code\n",
      "  File \"/tmp/ipykernel_4062/376891588.py\", line 1, in <cell line: 1>\n",
      "    gb_model.evaluate(train_tfds)\n",
      "NameError: name 'gb_model' is not defined\n",
      "\n",
      "During handling of the above exception, another exception occurred:\n",
      "\n",
      "Traceback (most recent call last):\n",
      "  File \"/media/D/Git/Kaggle-Journey/venv/lib/python3.10/site-packages/pygments/styles/__init__.py\", line 78, in get_style_by_name\n",
      "ModuleNotFoundError: No module named 'pygments.styles.default'\n",
      "\n",
      "During handling of the above exception, another exception occurred:\n",
      "\n",
      "Traceback (most recent call last):\n",
      "  File \"/media/D/Git/Kaggle-Journey/venv/lib/python3.10/site-packages/IPython/core/interactiveshell.py\", line 1992, in showtraceback\n",
      "  File \"/media/D/Git/Kaggle-Journey/venv/lib/python3.10/site-packages/IPython/core/ultratb.py\", line 1118, in structured_traceback\n",
      "  File \"/media/D/Git/Kaggle-Journey/venv/lib/python3.10/site-packages/IPython/core/ultratb.py\", line 1012, in structured_traceback\n",
      "  File \"/media/D/Git/Kaggle-Journey/venv/lib/python3.10/site-packages/IPython/core/ultratb.py\", line 865, in structured_traceback\n",
      "  File \"/media/D/Git/Kaggle-Journey/venv/lib/python3.10/site-packages/IPython/core/ultratb.py\", line 799, in format_exception_as_a_whole\n",
      "  File \"/media/D/Git/Kaggle-Journey/venv/lib/python3.10/site-packages/IPython/core/ultratb.py\", line 844, in get_records\n",
      "  File \"/media/D/Git/Kaggle-Journey/venv/lib/python3.10/site-packages/pygments/styles/__init__.py\", line 80, in get_style_by_name\n",
      "pygments.util.ClassNotFound: Could not find style module 'default', though it should be builtin.\n"
     ]
    }
   ],
   "source": [
    "gb_model.evaluate(train_tfds)"
   ]
  },
  {
   "cell_type": "markdown",
   "id": "3753f326",
   "metadata": {
    "papermill": {
     "duration": 1.757462,
     "end_time": "2022-05-13T20:46:51.803258",
     "exception": false,
     "start_time": "2022-05-13T20:46:50.045796",
     "status": "completed"
    },
    "tags": []
   },
   "source": [
    "95% accuracy is not a bad baseline result given how quickly we put this together (and with so few lines of code)."
   ]
  },
  {
   "cell_type": "markdown",
   "id": "c1828bec",
   "metadata": {
    "papermill": {
     "duration": 1.749776,
     "end_time": "2022-05-13T20:46:55.310234",
     "exception": false,
     "start_time": "2022-05-13T20:46:53.560458",
     "status": "completed"
    },
    "tags": []
   },
   "source": [
    "Step 10: Investigate variable importances for the GradientBoostedTrees model"
   ]
  },
  {
   "cell_type": "markdown",
   "id": "bd842d8b",
   "metadata": {
    "papermill": {
     "duration": 1.769747,
     "end_time": "2022-05-13T20:46:58.870157",
     "exception": false,
     "start_time": "2022-05-13T20:46:57.100410",
     "status": "completed"
    },
    "tags": []
   },
   "source": [
    "As mentioned previously, variable importances describe how each feature impacts the model. Variable importances can tell you how much a given variable contributes to the model's predictions. \n"
   ]
  },
  {
   "cell_type": "code",
   "execution_count": 31,
   "id": "7e9717fe",
   "metadata": {
    "execution": {
     "iopub.execute_input": "2022-05-13T20:47:03.469250Z",
     "iopub.status.busy": "2022-05-13T20:47:03.468946Z",
     "iopub.status.idle": "2022-05-13T20:47:03.480390Z",
     "shell.execute_reply": "2022-05-13T20:47:03.477753Z"
    },
    "papermill": {
     "duration": 2.452303,
     "end_time": "2022-05-13T20:47:03.482756",
     "exception": false,
     "start_time": "2022-05-13T20:47:01.030453",
     "status": "completed"
    },
    "tags": []
   },
   "outputs": [
    {
     "name": "stdout",
     "output_type": "stream",
     "text": [
      "Available variable importances:\n",
      "Unexpected exception formatting exception. Falling back to standard exception\n"
     ]
    },
    {
     "name": "stderr",
     "output_type": "stream",
     "text": [
      "Traceback (most recent call last):\n",
      "  File \"/media/D/Git/Kaggle-Journey/venv/lib/python3.10/site-packages/IPython/core/interactiveshell.py\", line 3397, in run_code\n",
      "  File \"/tmp/ipykernel_4062/2572604509.py\", line 5, in <cell line: 5>\n",
      "    for importance in inspector.variable_importances().keys():\n",
      "NameError: name 'inspector' is not defined\n",
      "\n",
      "During handling of the above exception, another exception occurred:\n",
      "\n",
      "Traceback (most recent call last):\n",
      "  File \"/media/D/Git/Kaggle-Journey/venv/lib/python3.10/site-packages/pygments/styles/__init__.py\", line 78, in get_style_by_name\n",
      "ModuleNotFoundError: No module named 'pygments.styles.default'\n",
      "\n",
      "During handling of the above exception, another exception occurred:\n",
      "\n",
      "Traceback (most recent call last):\n",
      "  File \"/media/D/Git/Kaggle-Journey/venv/lib/python3.10/site-packages/IPython/core/interactiveshell.py\", line 1992, in showtraceback\n",
      "  File \"/media/D/Git/Kaggle-Journey/venv/lib/python3.10/site-packages/IPython/core/ultratb.py\", line 1118, in structured_traceback\n",
      "  File \"/media/D/Git/Kaggle-Journey/venv/lib/python3.10/site-packages/IPython/core/ultratb.py\", line 1012, in structured_traceback\n",
      "  File \"/media/D/Git/Kaggle-Journey/venv/lib/python3.10/site-packages/IPython/core/ultratb.py\", line 865, in structured_traceback\n",
      "  File \"/media/D/Git/Kaggle-Journey/venv/lib/python3.10/site-packages/IPython/core/ultratb.py\", line 799, in format_exception_as_a_whole\n",
      "  File \"/media/D/Git/Kaggle-Journey/venv/lib/python3.10/site-packages/IPython/core/ultratb.py\", line 844, in get_records\n",
      "  File \"/media/D/Git/Kaggle-Journey/venv/lib/python3.10/site-packages/pygments/styles/__init__.py\", line 80, in get_style_by_name\n",
      "pygments.util.ClassNotFound: Could not find style module 'default', though it should be builtin.\n"
     ]
    }
   ],
   "source": [
    "# Adapted from https://www.tensorflow.org/decision_forests/tutorials/advanced_colab\n",
    "# See list of inspector methods from:\n",
    "# [field for field in dir(inspector) if not field.startswith(\"_\")]\n",
    "print(f\"Available variable importances:\")\n",
    "for importance in inspector.variable_importances().keys():\n",
    "  print(\"\\t\", importance)"
   ]
  },
  {
   "cell_type": "markdown",
   "id": "b1d4d0ee",
   "metadata": {
    "papermill": {
     "duration": 1.781151,
     "end_time": "2022-05-13T20:47:07.037890",
     "exception": false,
     "start_time": "2022-05-13T20:47:05.256739",
     "status": "completed"
    },
    "tags": []
   },
   "source": [
    "Variable importances describe how each feature impacts the model. Once again we can see that our most important features were the features that we created during our feature engineering step. "
   ]
  },
  {
   "cell_type": "code",
   "execution_count": 32,
   "id": "58c61938",
   "metadata": {
    "execution": {
     "iopub.execute_input": "2022-05-13T20:47:10.587599Z",
     "iopub.status.busy": "2022-05-13T20:47:10.587166Z",
     "iopub.status.idle": "2022-05-13T20:47:10.608113Z",
     "shell.execute_reply": "2022-05-13T20:47:10.605646Z"
    },
    "papermill": {
     "duration": 1.813104,
     "end_time": "2022-05-13T20:47:10.617070",
     "exception": false,
     "start_time": "2022-05-13T20:47:08.803966",
     "status": "completed"
    },
    "tags": []
   },
   "outputs": [
    {
     "name": "stdout",
     "output_type": "stream",
     "text": [
      "Unexpected exception formatting exception. Falling back to standard exception\n"
     ]
    },
    {
     "name": "stderr",
     "output_type": "stream",
     "text": [
      "Traceback (most recent call last):\n",
      "  File \"/media/D/Git/Kaggle-Journey/venv/lib/python3.10/site-packages/IPython/core/interactiveshell.py\", line 3397, in run_code\n",
      "  File \"/tmp/ipykernel_4062/945609495.py\", line 1, in <cell line: 1>\n",
      "    inspector.variable_importances()[\"SUM_SCORE\"]\n",
      "NameError: name 'inspector' is not defined\n",
      "\n",
      "During handling of the above exception, another exception occurred:\n",
      "\n",
      "Traceback (most recent call last):\n",
      "  File \"/media/D/Git/Kaggle-Journey/venv/lib/python3.10/site-packages/pygments/styles/__init__.py\", line 78, in get_style_by_name\n",
      "ModuleNotFoundError: No module named 'pygments.styles.default'\n",
      "\n",
      "During handling of the above exception, another exception occurred:\n",
      "\n",
      "Traceback (most recent call last):\n",
      "  File \"/media/D/Git/Kaggle-Journey/venv/lib/python3.10/site-packages/IPython/core/interactiveshell.py\", line 1992, in showtraceback\n",
      "  File \"/media/D/Git/Kaggle-Journey/venv/lib/python3.10/site-packages/IPython/core/ultratb.py\", line 1118, in structured_traceback\n",
      "  File \"/media/D/Git/Kaggle-Journey/venv/lib/python3.10/site-packages/IPython/core/ultratb.py\", line 1012, in structured_traceback\n",
      "  File \"/media/D/Git/Kaggle-Journey/venv/lib/python3.10/site-packages/IPython/core/ultratb.py\", line 865, in structured_traceback\n",
      "  File \"/media/D/Git/Kaggle-Journey/venv/lib/python3.10/site-packages/IPython/core/ultratb.py\", line 799, in format_exception_as_a_whole\n",
      "  File \"/media/D/Git/Kaggle-Journey/venv/lib/python3.10/site-packages/IPython/core/ultratb.py\", line 844, in get_records\n",
      "  File \"/media/D/Git/Kaggle-Journey/venv/lib/python3.10/site-packages/pygments/styles/__init__.py\", line 80, in get_style_by_name\n",
      "pygments.util.ClassNotFound: Could not find style module 'default', though it should be builtin.\n"
     ]
    }
   ],
   "source": [
    "inspector.variable_importances()[\"SUM_SCORE\"]"
   ]
  },
  {
   "cell_type": "code",
   "execution_count": 33,
   "id": "4f6d689e",
   "metadata": {
    "execution": {
     "iopub.execute_input": "2022-05-13T20:47:14.425010Z",
     "iopub.status.busy": "2022-05-13T20:47:14.424730Z",
     "iopub.status.idle": "2022-05-13T20:47:14.439722Z",
     "shell.execute_reply": "2022-05-13T20:47:14.438784Z"
    },
    "papermill": {
     "duration": 1.781923,
     "end_time": "2022-05-13T20:47:14.441999",
     "exception": false,
     "start_time": "2022-05-13T20:47:12.660076",
     "status": "completed"
    },
    "tags": []
   },
   "outputs": [
    {
     "name": "stdout",
     "output_type": "stream",
     "text": [
      "Unexpected exception formatting exception. Falling back to standard exception\n"
     ]
    },
    {
     "name": "stderr",
     "output_type": "stream",
     "text": [
      "Traceback (most recent call last):\n",
      "  File \"/media/D/Git/Kaggle-Journey/venv/lib/python3.10/site-packages/IPython/core/interactiveshell.py\", line 3397, in run_code\n",
      "  File \"/tmp/ipykernel_4062/2785861455.py\", line 1, in <cell line: 1>\n",
      "    tfdf.model_plotter.plot_model_in_colab(gb_model, tree_idx=0, max_depth=3)\n",
      "NameError: name 'tfdf' is not defined\n",
      "\n",
      "During handling of the above exception, another exception occurred:\n",
      "\n",
      "Traceback (most recent call last):\n",
      "  File \"/media/D/Git/Kaggle-Journey/venv/lib/python3.10/site-packages/pygments/styles/__init__.py\", line 78, in get_style_by_name\n",
      "ModuleNotFoundError: No module named 'pygments.styles.default'\n",
      "\n",
      "During handling of the above exception, another exception occurred:\n",
      "\n",
      "Traceback (most recent call last):\n",
      "  File \"/media/D/Git/Kaggle-Journey/venv/lib/python3.10/site-packages/IPython/core/interactiveshell.py\", line 1992, in showtraceback\n",
      "  File \"/media/D/Git/Kaggle-Journey/venv/lib/python3.10/site-packages/IPython/core/ultratb.py\", line 1118, in structured_traceback\n",
      "  File \"/media/D/Git/Kaggle-Journey/venv/lib/python3.10/site-packages/IPython/core/ultratb.py\", line 1012, in structured_traceback\n",
      "  File \"/media/D/Git/Kaggle-Journey/venv/lib/python3.10/site-packages/IPython/core/ultratb.py\", line 865, in structured_traceback\n",
      "  File \"/media/D/Git/Kaggle-Journey/venv/lib/python3.10/site-packages/IPython/core/ultratb.py\", line 799, in format_exception_as_a_whole\n",
      "  File \"/media/D/Git/Kaggle-Journey/venv/lib/python3.10/site-packages/IPython/core/ultratb.py\", line 844, in get_records\n",
      "  File \"/media/D/Git/Kaggle-Journey/venv/lib/python3.10/site-packages/pygments/styles/__init__.py\", line 80, in get_style_by_name\n",
      "pygments.util.ClassNotFound: Could not find style module 'default', though it should be builtin.\n"
     ]
    }
   ],
   "source": [
    "tfdf.model_plotter.plot_model_in_colab(gb_model, tree_idx=0, max_depth=3)"
   ]
  },
  {
   "cell_type": "markdown",
   "id": "68889c31",
   "metadata": {
    "papermill": {
     "duration": 1.814266,
     "end_time": "2022-05-13T20:47:18.043475",
     "exception": false,
     "start_time": "2022-05-13T20:47:16.229209",
     "status": "completed"
    },
    "tags": []
   },
   "source": [
    "Step 11: Submit your results"
   ]
  },
  {
   "cell_type": "code",
   "execution_count": 34,
   "id": "cf69be61",
   "metadata": {
    "_kg_hide-input": false,
    "_kg_hide-output": true,
    "execution": {
     "iopub.execute_input": "2022-05-13T20:47:21.646215Z",
     "iopub.status.busy": "2022-05-13T20:47:21.644303Z",
     "iopub.status.idle": "2022-05-13T20:48:04.374450Z",
     "shell.execute_reply": "2022-05-13T20:48:04.373453Z"
    },
    "papermill": {
     "duration": 46.702545,
     "end_time": "2022-05-13T20:48:06.519407",
     "exception": false,
     "start_time": "2022-05-13T20:47:19.816862",
     "status": "completed"
    },
    "tags": []
   },
   "outputs": [
    {
     "name": "stdout",
     "output_type": "stream",
     "text": [
      "Unexpected exception formatting exception. Falling back to standard exception\n"
     ]
    },
    {
     "name": "stderr",
     "output_type": "stream",
     "text": [
      "Traceback (most recent call last):\n",
      "  File \"/media/D/Git/Kaggle-Journey/venv/lib/python3.10/site-packages/IPython/core/interactiveshell.py\", line 3397, in run_code\n",
      "  File \"/tmp/ipykernel_4062/3036694113.py\", line 1, in <cell line: 1>\n",
      "    sample_submission_df = pd.read_csv('../datasets/tabular-playground/sample_submission.csv')\n",
      "NameError: name 'pd' is not defined\n",
      "\n",
      "During handling of the above exception, another exception occurred:\n",
      "\n",
      "Traceback (most recent call last):\n",
      "  File \"/media/D/Git/Kaggle-Journey/venv/lib/python3.10/site-packages/pygments/styles/__init__.py\", line 78, in get_style_by_name\n",
      "ModuleNotFoundError: No module named 'pygments.styles.default'\n",
      "\n",
      "During handling of the above exception, another exception occurred:\n",
      "\n",
      "Traceback (most recent call last):\n",
      "  File \"/media/D/Git/Kaggle-Journey/venv/lib/python3.10/site-packages/IPython/core/interactiveshell.py\", line 1992, in showtraceback\n",
      "  File \"/media/D/Git/Kaggle-Journey/venv/lib/python3.10/site-packages/IPython/core/ultratb.py\", line 1118, in structured_traceback\n",
      "  File \"/media/D/Git/Kaggle-Journey/venv/lib/python3.10/site-packages/IPython/core/ultratb.py\", line 1012, in structured_traceback\n",
      "  File \"/media/D/Git/Kaggle-Journey/venv/lib/python3.10/site-packages/IPython/core/ultratb.py\", line 865, in structured_traceback\n",
      "  File \"/media/D/Git/Kaggle-Journey/venv/lib/python3.10/site-packages/IPython/core/ultratb.py\", line 799, in format_exception_as_a_whole\n",
      "  File \"/media/D/Git/Kaggle-Journey/venv/lib/python3.10/site-packages/IPython/core/ultratb.py\", line 844, in get_records\n",
      "  File \"/media/D/Git/Kaggle-Journey/venv/lib/python3.10/site-packages/pygments/styles/__init__.py\", line 80, in get_style_by_name\n",
      "pygments.util.ClassNotFound: Could not find style module 'default', though it should be builtin.\n"
     ]
    }
   ],
   "source": [
    "sample_submission_df = pd.read_csv('../datasets/tabular-playground/sample_submission.csv')\n",
    "sample_submission_df['target'] = gb_model.predict(test_tfds)\n",
    "sample_submission_df.to_csv('../datasets/tabular-playground/submission.csv', index=False)\n",
    "sample_submission_df.head()"
   ]
  },
  {
   "cell_type": "markdown",
   "id": "de5b9eff",
   "metadata": {
    "papermill": {
     "duration": 1.91099,
     "end_time": "2022-05-13T20:48:10.765894",
     "exception": false,
     "start_time": "2022-05-13T20:48:08.854904",
     "status": "completed"
    },
    "tags": []
   },
   "source": [
    "TF-DF makes it very easy to find lots of useful information about your model.  For example, the following code cell provides a tremendous amount of information with just a single line of code.  You can preview the output of this code cell by clicking on the \"show output\" button below."
   ]
  },
  {
   "cell_type": "code",
   "execution_count": 35,
   "id": "9d6196ad",
   "metadata": {
    "_kg_hide-output": true,
    "execution": {
     "iopub.execute_input": "2022-05-13T20:48:14.311859Z",
     "iopub.status.busy": "2022-05-13T20:48:14.311424Z",
     "iopub.status.idle": "2022-05-13T20:48:14.330634Z",
     "shell.execute_reply": "2022-05-13T20:48:14.329314Z"
    },
    "papermill": {
     "duration": 1.802491,
     "end_time": "2022-05-13T20:48:14.342572",
     "exception": false,
     "start_time": "2022-05-13T20:48:12.540081",
     "status": "completed"
    },
    "tags": []
   },
   "outputs": [
    {
     "name": "stdout",
     "output_type": "stream",
     "text": [
      "Unexpected exception formatting exception. Falling back to standard exception\n"
     ]
    },
    {
     "name": "stderr",
     "output_type": "stream",
     "text": [
      "Traceback (most recent call last):\n",
      "  File \"/media/D/Git/Kaggle-Journey/venv/lib/python3.10/site-packages/IPython/core/interactiveshell.py\", line 3397, in run_code\n",
      "  File \"/tmp/ipykernel_4062/2659773134.py\", line 1, in <cell line: 1>\n",
      "    gb_model.summary()\n",
      "NameError: name 'gb_model' is not defined\n",
      "\n",
      "During handling of the above exception, another exception occurred:\n",
      "\n",
      "Traceback (most recent call last):\n",
      "  File \"/media/D/Git/Kaggle-Journey/venv/lib/python3.10/site-packages/pygments/styles/__init__.py\", line 78, in get_style_by_name\n",
      "ModuleNotFoundError: No module named 'pygments.styles.default'\n",
      "\n",
      "During handling of the above exception, another exception occurred:\n",
      "\n",
      "Traceback (most recent call last):\n",
      "  File \"/media/D/Git/Kaggle-Journey/venv/lib/python3.10/site-packages/IPython/core/interactiveshell.py\", line 1992, in showtraceback\n",
      "  File \"/media/D/Git/Kaggle-Journey/venv/lib/python3.10/site-packages/IPython/core/ultratb.py\", line 1118, in structured_traceback\n",
      "  File \"/media/D/Git/Kaggle-Journey/venv/lib/python3.10/site-packages/IPython/core/ultratb.py\", line 1012, in structured_traceback\n",
      "  File \"/media/D/Git/Kaggle-Journey/venv/lib/python3.10/site-packages/IPython/core/ultratb.py\", line 865, in structured_traceback\n",
      "  File \"/media/D/Git/Kaggle-Journey/venv/lib/python3.10/site-packages/IPython/core/ultratb.py\", line 799, in format_exception_as_a_whole\n",
      "  File \"/media/D/Git/Kaggle-Journey/venv/lib/python3.10/site-packages/IPython/core/ultratb.py\", line 844, in get_records\n",
      "  File \"/media/D/Git/Kaggle-Journey/venv/lib/python3.10/site-packages/pygments/styles/__init__.py\", line 80, in get_style_by_name\n",
      "pygments.util.ClassNotFound: Could not find style module 'default', though it should be builtin.\n"
     ]
    }
   ],
   "source": [
    "gb_model.summary()"
   ]
  },
  {
   "cell_type": "markdown",
   "id": "0035e5f7",
   "metadata": {
    "papermill": {
     "duration": 2.132587,
     "end_time": "2022-05-13T20:48:18.267139",
     "exception": false,
     "start_time": "2022-05-13T20:48:16.134552",
     "status": "completed"
    },
    "tags": []
   },
   "source": [
    "# Conclusion"
   ]
  },
  {
   "cell_type": "markdown",
   "id": "14e61966",
   "metadata": {
    "papermill": {
     "duration": 1.762444,
     "end_time": "2022-05-13T20:48:21.801227",
     "exception": false,
     "start_time": "2022-05-13T20:48:20.038783",
     "status": "completed"
    },
    "tags": []
   },
   "source": [
    "[TensorFlow Decision Forests](https://www.tensorflow.org/decision_forests) (TF-DF) made it  quick and easy to train our RandomForest and GradientBoostedTrees models.  These types of decision forest models require minimal pre-processing of the data and are great when working with tabular datasets and/or small datasets (especially if you just want a quick baseline result to compare against).  Some of my favorite parts about  working with TF-DF were: (1) I was able to train a GradientBoostedTrees model with only a few lines of code; (2) there were lots of different default hyper-parameter options that I could choose from; (3) it was easy to visualize the structure/architecture of my models; and (4) it was easy to explore what features were most important to my model (to interpret and explain its decisions).\n",
    "\n",
    "\n",
    "We worked with the [Tabular Playground Series May 2022](https://www.kaggle.com/competitions/tabular-playground-series-may-2022/data) Kaggle Dataset.  It was a tabular dataset with 900,000 rows and 33 columns that contained data from industrial sensors, designed t be used to determine whether that piece of industrial equipment was in a state of  \"0\" or \"1\".\n",
    "\n",
    "We were able to solve this task with an accuracy of ~95% which is not a bad baseline result given how quickly we were able to put this together (and with so few lines of code).\n",
    "\n",
    "To learn more about TF-DF visit https://www.tensorflow.org/decision_forests.\n",
    "\n",
    "Next steps?\n",
    " - Click on the \"copy & edit\" button in the top right corner of this notebook\n",
    " - Experiment and try to increase the score.  My recommendation would be to focus on the [feature engineering and feature selection](https://www.kaggle.com/learn/feature-engineering) steps, as these steps were omitted from this tutorial (for the sake of brevity)\n",
    " - Make a submission to https://www.kaggle.com/competitions/tabular-playground-series-may-2022"
   ]
  },
  {
   "cell_type": "markdown",
   "id": "179b9cd6",
   "metadata": {
    "papermill": {
     "duration": 1.765086,
     "end_time": "2022-05-13T20:48:25.326904",
     "exception": false,
     "start_time": "2022-05-13T20:48:23.561818",
     "status": "completed"
    },
    "tags": []
   },
   "source": [
    "Works Cited:\n",
    " - [Build, train and evaluate models with TensorFlow Decision Forests](https://www.tensorflow.org/decision_forests/tutorials/beginner_colab) from @[tensorflow](https://www.tensorflow.org/decision_forests/tutorials/)\n",
    "  - Code snippets for model training visualization \n",
    "  - See comments in plot_tfdf_model_training_curves() for more detail\n",
    " - [[TPS-MAY-22] EDA & LGBM Model](https://www.kaggle.com/code/cabaxiom/tps-may-22-eda-lgbm-model) from @[cabaxiom](https://www.kaggle.com/cabaxiom)\n",
    "  - Feature engineering code snippets\n",
    "  - See comments in expand_feature_27() for more detail\n",
    " - [TPSMAY22 Gradient-Boosting Quickstart](https://www.kaggle.com/code/ambrosm/tpsmay22-gradient-boosting-quickstart) from @[ambrosm](https://www.kaggle.com/ambrosm)\n",
    "  - Feature engineering code snippets\n",
    "  - See comments in expand_feature_27() for more detail\n",
    "\n",
    "\n",
    "Other Useful References:\n",
    " - https://www.tensorflow.org/decision_forests/tutorials/beginner_colab\n",
    " - https://www.tensorflow.org/decision_forests/tutorials/intermediate_colab\n",
    " - https://www.tensorflow.org/decision_forests/tutorials/advanced_colab"
   ]
  },
  {
   "cell_type": "code",
   "execution_count": null,
   "id": "71a9dab4",
   "metadata": {
    "papermill": {
     "duration": 2.125212,
     "end_time": "2022-05-13T20:48:29.283572",
     "exception": false,
     "start_time": "2022-05-13T20:48:27.158360",
     "status": "completed"
    },
    "tags": []
   },
   "outputs": [],
   "source": []
  }
 ],
 "metadata": {
  "interpreter": {
   "hash": "020e5a88bb258b171bb5607a9de7b85f5383c46b1004dba50014dfc88be8e2ad"
  },
  "kernelspec": {
   "display_name": "Python 3.10.4 ('venv': venv)",
   "language": "python",
   "name": "python3"
  },
  "language_info": {
   "codemirror_mode": {
    "name": "ipython",
    "version": 3
   },
   "file_extension": ".py",
   "mimetype": "text/x-python",
   "name": "python",
   "nbconvert_exporter": "python",
   "pygments_lexer": "ipython3",
   "version": "3.10.4"
  },
  "papermill": {
   "default_parameters": {},
   "duration": 8046.793307,
   "end_time": "2022-05-13T20:48:34.755677",
   "environment_variables": {},
   "exception": null,
   "input_path": "__notebook__.ipynb",
   "output_path": "__notebook__.ipynb",
   "parameters": {},
   "start_time": "2022-05-13T18:34:27.962370",
   "version": "2.3.4"
  }
 },
 "nbformat": 4,
 "nbformat_minor": 5
}
